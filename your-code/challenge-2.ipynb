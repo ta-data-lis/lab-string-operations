{
 "cells": [
  {
   "cell_type": "markdown",
   "metadata": {},
   "source": [
    "# Bag of Words Lab\n",
    "\n",
    "## Introduction\n",
    "\n",
    "**Bag of words (BoW)** is an important technique in text mining and [information retrieval](https://en.wikipedia.org/wiki/Information_retrieval). BoW uses term-frequency vectors to represent the content of text documents which makes it possible to use mathematics and computer programs to analyze and compare text documents.\n",
    "\n",
    "BoW contains the following information:\n",
    "\n",
    "1. A dictionary of all the terms (words) in the text documents. The terms are normalized in terms of the letter case (e.g. `Ironhack` => `ironhack`), tense (e.g. `had` => `have`), singular form (e.g. `students` => `student`), etc.\n",
    "1. The number of occurrences of each normalized term in each document.\n",
    "\n",
    "For example, assume we have three text documents:\n",
    "\n",
    "DOC 1: **Ironhack is cool.**\n",
    "\n",
    "DOC 2: **I love Ironhack.**\n",
    "\n",
    "DOC 3: **I am a student at Ironhack.**\n",
    "\n",
    "The BoW of the above documents looks like below:\n",
    "\n",
    "| TERM | DOC 1 | DOC 2 | Doc 3 |\n",
    "|---|---|---|---|\n",
    "| a | 0 | 0 | 1 |\n",
    "| am | 0 | 0 | 1 |\n",
    "| at | 0 | 0 | 1 |\n",
    "| cool | 1 | 0 | 0 |\n",
    "| i | 0 | 1 | 1 |\n",
    "| ironhack | 1 | 1 | 1 |\n",
    "| is | 1 | 0 | 0 |\n",
    "| love | 0 | 1 | 0 |\n",
    "| student | 0 | 0 | 1 |\n",
    "\n",
    "\n",
    "The term-frequency array of each document in BoW can be considered a high-dimensional vector. Data scientists use these vectors to represent the content of the documents. For instance, DOC 1 is represented with `[0, 0, 0, 1, 0, 1, 1, 0, 0]`, DOC 2 is represented with `[0, 0, 0, 0, 1, 1, 0, 1, 0]`, and DOC 3 is represented with `[1, 1, 1, 0, 1, 1, 0, 0, 1]`. **Two documents are considered identical if their vector representations have close [cosine similarity](https://en.wikipedia.org/wiki/Cosine_similarity).**\n",
    "\n",
    "In real practice there are many additional techniques to improve the text mining accuracy such as using [stop words](https://en.wikipedia.org/wiki/Stop_words) (i.e. neglecting common words such as `a`, `I`, `to` that don't contribute much meaning), synonym list (e.g. consider `New York City` the same as `NYC` and `Big Apple`), and HTML tag removal if the data sources are webpages. In Module 3 you will learn how to use those advanced techniques for [natural language processing](https://en.wikipedia.org/wiki/Natural_language_processing), a component of text mining.\n",
    "\n",
    "In real text mining projects data analysts use packages such as Scikit-Learn and NLTK, which you will learn in Module 3, to extract BoW from texts. In this exercise, however, we would like you to create BoW manually with Python. This is because by manually creating BoW you can better understand the concept and also practice the Python skills you have learned so far."
   ]
  },
  {
   "cell_type": "markdown",
   "metadata": {},
   "source": [
    "## The Challenge\n",
    "\n",
    "We need to create a BoW from a list of documents. The documents (`doc1.txt`, `doc2.txt`, and `doc3.txt`) can be found in the `your-code` directory of this exercise. You will read the content of each document into an array of strings named `corpus`.\n",
    "\n",
    "*What is a corpus (plural: corpora)? Read the reference in the README file.*\n",
    "\n",
    "Your challenge is to use Python to generate the BoW of these documents. Your BoW should look like below:\n",
    "\n",
    "```python\n",
    "bag_of_words = ['a', 'am', 'at', 'cool', 'i', 'ironhack', 'is', 'love', 'student']\n",
    "\n",
    "term_freq = [\n",
    "    [0, 0, 0, 1, 0, 1, 1, 0, 0],\n",
    "    [0, 0, 0, 0, 1, 1, 0, 1, 0],\n",
    "    [1, 1, 1, 0, 1, 1, 0, 0, 1],\n",
    "]\n",
    "```\n",
    "\n",
    "Now let's define the `docs` array that contains the paths of `doc1.txt`, `doc2.txt`, and `doc3.txt`."
   ]
  },
  {
   "cell_type": "code",
   "execution_count": null,
   "metadata": {},
   "outputs": [],
   "source": [
    "docs = ['doc1.txt', 'doc2.txt', 'doc3.txt']"
   ]
  },
  {
   "cell_type": "markdown",
   "metadata": {},
   "source": [
    "Define an empty array `corpus` that will contain the content strings of the docs. Loop `docs` and read the content of each doc into the `corpus` array."
   ]
  },
  {
   "cell_type": "code",
   "execution_count": null,
   "metadata": {},
   "outputs": [],
   "source": [
    "# Write your code here\n",
    "\n",
    "#lets create a list where the content strings of the docs are saved\n",
    "corpus=[]\n",
    "\n",
    "for doc in docs:\n",
    "    f = open(doc, 'r')\n",
    "    corpus.append(f.read())\n",
    "    f.close() # good practice"
   ]
  },
  {
   "cell_type": "markdown",
   "metadata": {},
   "source": [
    "Print `corpus`."
   ]
  },
  {
   "cell_type": "code",
   "execution_count": null,
   "metadata": {},
   "outputs": [],
   "source": [
    "corpus"
   ]
  },
  {
   "cell_type": "markdown",
   "metadata": {},
   "source": [
    "You expected to see:\n",
    "\n",
    "```['ironhack is cool', 'i love ironhack', 'i am a student at ironhack']```\n",
    "\n",
    "But you actually saw:\n",
    "\n",
    "```['Ironhack is cool.', 'I love Ironhack.', 'I am a student at Ironhack.']```\n",
    "\n",
    "This is because you haven't done two important steps:\n",
    "\n",
    "1. Remove punctuation from the strings\n",
    "\n",
    "1. Convert strings to lowercase\n",
    "\n",
    "Write your code below to process `corpus` (convert to lower case and remove special characters)."
   ]
  },
  {
   "cell_type": "code",
   "execution_count": null,
   "metadata": {},
   "outputs": [],
   "source": [
    "# Write your code here\n",
    "corpus = [text.strip('.').lower() for text in corpus]\n",
    "corpus"
   ]
  },
  {
   "cell_type": "markdown",
   "metadata": {},
   "source": [
    "Now define `bag_of_words` as an empty array. It will be used to store the unique terms in `corpus`."
   ]
  },
  {
   "cell_type": "code",
   "execution_count": null,
   "metadata": {},
   "outputs": [],
   "source": [
    "bag_of_words = list()"
   ]
  },
  {
   "cell_type": "markdown",
   "metadata": {},
   "source": [
    "Loop through `corpus`. In each loop, do the following:\n",
    "\n",
    "1. Break the string into an array of terms. \n",
    "1. Create a sub-loop to iterate the terms array. \n",
    "  * In each sub-loop, you'll check if the current term is already contained in `bag_of_words`. If not in `bag_of_words`, append it to the array."
   ]
  },
  {
   "cell_type": "code",
   "execution_count": null,
   "metadata": {},
   "outputs": [],
   "source": [
    "#bag_of_words = [word for text in corpus for word in text.split() if word not in bag_of_words]\n",
    "#bag_of_words ---> For some reason, list comprehension does not work"
   ]
  },
  {
   "cell_type": "code",
   "execution_count": null,
   "metadata": {},
   "outputs": [],
   "source": [
    "# Write your code here\n",
    "\n",
    "# The string of each .txt is split and added to bag_of_words, if it does not exist when it\n",
    "# is found.\n",
    "for text in corpus:\n",
    "    for word in text.split():\n",
    "        if word not in bag_of_words:\n",
    "            bag_of_words.append(word)\n",
    "\n",
    "print(bag_of_words)"
   ]
  },
  {
   "cell_type": "markdown",
   "metadata": {},
   "source": [
    "Print `bag_of_words`. You should see: \n",
    "\n",
    "```['ironhack', 'is', 'cool', 'i', 'love', 'am', 'a', 'student', 'at']```\n",
    "\n",
    "If not, fix your code in the previous cell."
   ]
  },
  {
   "cell_type": "markdown",
   "metadata": {},
   "source": [
    "Now we define an empty array called `term_freq`. Loop `corpus` for a second time. In each loop, create a sub-loop to iterate the terms in `bag_of_words`. Count how many times each term appears in each doc of `corpus`. Append the term-frequency array to `term_freq`."
   ]
  },
  {
   "cell_type": "code",
   "execution_count": null,
   "metadata": {},
   "outputs": [],
   "source": [
    "# Write your code here\n",
    "\n",
    "#Lets initialize the empty list term_freq\n",
    "term_freq = list()\n",
    "\n",
    "#Lets define an auxiliar variable, which controls the addition of new lists inside of term_freq\n",
    "aux= 0\n",
    "\n",
    "\n",
    "# It loops the list corpus\n",
    "for text in corpus:\n",
    "    \n",
    "    # Adds a new list to the term_freq list\n",
    "    term_freq.append([])\n",
    "    \n",
    "    # Loops the list bag_of_words\n",
    "    for word in bag_of_words:\n",
    "        \n",
    "        # If the word of bag_of_words matches the word of the string of corpus, it adds 1,\n",
    "        # otherwise adds 0\n",
    "        if word in text.split():\n",
    "            term_freq[aux].append(1)\n",
    "        else:\n",
    "            term_freq[aux].append(0)\n",
    "            \n",
    "    # Increases aux by one in order to write in the new list to be added above to term_freq list\n",
    "    aux += 1\n",
    "\n",
    "# Lets print the result\n",
    "print(term_freq)\n"
   ]
  },
  {
   "cell_type": "markdown",
   "metadata": {},
   "source": [
    "Print `term_freq`. You should see:\n",
    "\n",
    "```[[1, 1, 1, 0, 0, 0, 0, 0, 0], [1, 0, 0, 1, 1, 0, 0, 0, 0], [1, 0, 0, 1, 0, 1, 1, 1, 1]]```"
   ]
  },
  {
   "cell_type": "markdown",
   "metadata": {},
   "source": [
    "**If your output is correct, congratulations! You've solved the challenge!**\n",
    "\n",
    "If not, go back and check for errors in your code."
   ]
  },
  {
   "cell_type": "markdown",
   "metadata": {},
   "source": [
    "## Bonus Question\n",
    "\n",
    "Now you want to improve your previous solution by removing the stop words from the corpus. The idea is you only want to add terms that are not in the `stop_words` list to the `bag_of_words` array.\n",
    "\n",
    "Requirements:\n",
    "\n",
    "1. Move all your previous codes from `main.ipynb` to the cell below.\n",
    "1. Improve your solution by ignoring stop words in `bag_of_words`.\n",
    "\n",
    "After you're done, your `bag_of_words` should be:\n",
    "\n",
    "```['ironhack', 'cool', 'love', 'student']```\n",
    "\n",
    "And your `term_freq` should be:\n",
    "\n",
    "```[[1, 1, 0, 0], [1, 0, 1, 0], [1, 0, 0, 1]]```"
   ]
  },
  {
   "cell_type": "code",
   "execution_count": null,
   "metadata": {},
   "outputs": [],
   "source": [
    "stop_words = ['all', 'six', 'less', 'being', 'indeed', 'over', 'move', 'anyway', 'fifty', 'four',\\\n",
    "              'not', 'own', 'through', 'yourselves', 'go', 'where', 'mill', 'only', 'find',\\\n",
    "              'before', 'one', 'whose', 'system', 'how', 'somewhere', 'with', 'thick', 'show',\\\n",
    "              'had', 'enough', 'should', 'to', 'must', 'whom', 'seeming', 'under', 'ours', 'has',\\\n",
    "              'might', 'thereafter', 'latterly', 'do', 'them', 'his', 'around', 'than', 'get',\\\n",
    "              'very', 'de', 'none', 'cannot', 'every', 'whether', 'they', 'front', 'during',\\\n",
    "              'thus', 'now', 'him', 'nor', 'name', 'several', 'hereafter', 'always', 'who', 'cry',\\\n",
    "              'whither', 'this', 'someone', 'either', 'each', 'become', 'thereupon', 'sometime',\\\n",
    "              'side', 'two', 'therein', 'twelve', 'because', 'often', 'ten', 'our', 'eg', 'some',\\\n",
    "              'back', 'up', 'namely', 'towards', 'are', 'further', 'beyond', 'ourselves', 'yet',\\\n",
    "              'out', 'even', 'will', 'what', 'still', 'for', 'bottom', 'mine', 'since', 'please',\\\n",
    "              'forty', 'per', 'its', 'everything', 'behind', 'un', 'above', 'between', 'it',\\\n",
    "              'neither', 'seemed', 'ever', 'across', 'she', 'somehow', 'be', 'we', 'full', 'never',\\\n",
    "              'sixty', 'however', 'here', 'otherwise', 'were', 'whereupon', 'nowhere', 'although',\\\n",
    "              'found', 'alone', 're', 'along', 'fifteen', 'by', 'both', 'about', 'last', 'would',\\\n",
    "              'anything', 'via', 'many', 'could', 'thence', 'put', 'against', 'keep', 'etc',\\\n",
    "              'amount', 'became', 'ltd', 'hence', 'onto', 'or', 'con', 'among', 'already', 'co',\\\n",
    "              'afterwards', 'formerly', 'within', 'seems', 'into', 'others', 'while', 'whatever',\\\n",
    "              'except', 'down', 'hers', 'everyone', 'done', 'least', 'another', 'whoever',\\\n",
    "              'moreover', 'couldnt', 'throughout', 'anyhow', 'yourself', 'three', 'from', 'her',\\\n",
    "              'few', 'together', 'top', 'there', 'due', 'been', 'next', 'anyone', 'eleven', 'much',\\\n",
    "              'call', 'therefore', 'interest', 'then', 'thru', 'themselves', 'hundred', 'was',\\\n",
    "              'sincere', 'empty', 'more', 'himself', 'elsewhere', 'mostly', 'on', 'fire', 'am',\\\n",
    "              'becoming', 'hereby', 'amongst', 'else', 'part', 'everywhere', 'too', 'herself',\\\n",
    "              'former', 'those', 'he', 'me', 'myself', 'made', 'twenty', 'these', 'bill', 'cant',\\\n",
    "              'us', 'until', 'besides', 'nevertheless', 'below', 'anywhere', 'nine', 'can', 'of',\\\n",
    "              'your', 'toward', 'my', 'something', 'and', 'whereafter', 'whenever', 'give',\\\n",
    "              'almost', 'wherever', 'is', 'describe', 'beforehand', 'herein', 'an', 'as', 'itself',\\\n",
    "              'at', 'have', 'in', 'seem', 'whence', 'ie', 'any', 'fill', 'again', 'hasnt', 'inc',\\\n",
    "              'thereby', 'thin', 'no', 'perhaps', 'latter', 'meanwhile', 'when', 'detail', 'same',\\\n",
    "              'wherein', 'beside', 'also', 'that', 'other', 'take', 'which', 'becomes', 'you', 'if',\\\n",
    "              'nobody', 'see', 'though', 'may', 'after', 'upon', 'most', 'hereupon', 'eight', 'but',\\\n",
    "              'serious', 'nothing', 'such', 'why', 'a', 'off', 'whereby', 'third', 'i', 'whole',\\\n",
    "              'noone', 'sometimes', 'well', 'amoungst', 'yours', 'their', 'rather', 'without',\\\n",
    "              'so', 'five', 'the', 'first', 'whereas', 'once']\n",
    "\n",
    "# Write your code below\n",
    "\n",
    "#Lets initialize the empty list term_freq\n",
    "term_freq = list()\n",
    "\n",
    "#Lets define an auxiliar variable, which controls the addition of new lists inside of term_freq\n",
    "aux= 0\n",
    "\n",
    "# Lets reduce bag_of_words to the most interesting words\n",
    "[bag_of_words.remove(word) for word in stop_words if bag_of_words.count(word) != 0]\n",
    "\n",
    "# Lets confirm what is now inside of list bag_of_words\n",
    "print(bag_of_words)\n",
    "\n",
    "# It loops the list corpus\n",
    "for text in corpus:\n",
    "    \n",
    "    # Adds a new list to the term_freq list\n",
    "    term_freq.append([])\n",
    "    \n",
    "    # Loops the list bag_of_words\n",
    "    for word in bag_of_words:\n",
    "        \n",
    "        # If the word of bag_of_words matches the word of the string of corpus, it adds 1,\n",
    "        # otherwise adds 0\n",
    "        if word in text.split():\n",
    "            term_freq[aux].append(1)\n",
    "        else:\n",
    "            term_freq[aux].append(0)\n",
    "            \n",
    "    # Increases aux by one in order to write in the new list to be added above to term_freq list\n",
    "    aux += 1\n",
    "\n",
    "# Lets print the result\n",
    "print(term_freq)\n"
   ]
  },
  {
   "cell_type": "markdown",
   "metadata": {},
   "source": [
    "## Additional Challenge for the Nerds\n",
    "\n",
    "We will learn Scikit-Learn in Module 3 which has built in the BoW feature. Try to use Scikit-Learn to generate the BoW for this challenge and check whether the output is the same as yours. You will need to do some googling to find out how to use Scikit-Learn to generate BoW.\n",
    "\n",
    "**Notes:**\n",
    "\n",
    "* To install Scikit-Learn, use `pip install sklearn`. \n",
    "\n",
    "* Scikit-Learn removes stop words by default. You don't need to manually remove stop words.\n",
    "\n",
    "* Scikit-Learn's output has slightly different format from the output example demonstrated above. It's ok, you don't need to convert the Scikit-Learn output.\n",
    "\n",
    "The Scikit-Learn output will look like below:\n",
    "\n",
    "```python\n",
    "# BoW:\n",
    "{u'love': 5, u'ironhack': 3, u'student': 6, u'is': 4, u'cool': 2, u'am': 0, u'at': 1}\n",
    "\n",
    "# term_freq:\n",
    "[[0 0 1 1 1 0 0]\n",
    " [0 0 0 1 0 1 0]\n",
    " [1 1 0 1 0 0 1]]\n",
    " ```"
   ]
  },
  {
   "cell_type": "code",
   "execution_count": null,
   "metadata": {},
   "outputs": [],
   "source": [
    "from sklearn.feature_extraction.text import CountVectorizer\n",
    "\n",
    "vectorizer = CountVectorizer()\n",
    "\n",
    "X = vectorizer.fit_transform(corpus)\n",
    "\n",
    "# Let's print the bag of words obtained by analyzing corpus\n",
    "print(vectorizer.vocabulary_)\n",
    "print('\\n')\n",
    "\n",
    "# Let's check the term-frequency array of corpus\n",
    "term_freq = X.toarray()\n",
    "# Let's check the term freq matrix\n",
    "print(term_freq)"
   ]
  },
  {
   "cell_type": "code",
   "execution_count": null,
   "metadata": {
    "scrolled": true
   },
   "outputs": [],
   "source": [
    "# Now let's try using stop words defined in list stop_words\n",
    "\n",
    "vectorizer = CountVectorizer(stop_words= stop_words)\n",
    "\n",
    "X = vectorizer.fit_transform(corpus)\n",
    "\n",
    "# Let's print the bag of words obtained by analyzing corpus\n",
    "print(vectorizer.vocabulary_)\n",
    "print('\\n')\n",
    "\n",
    "# Let's check the term-frequency array of corpus\n",
    "term_freq = X.toarray()\n",
    "# Let's check the term freq matrix\n",
    "print(term_freq)"
   ]
  }
 ],
 "metadata": {
  "kernelspec": {
   "display_name": "Python 3 (ipykernel)",
   "language": "python",
   "name": "python3"
  },
  "language_info": {
   "codemirror_mode": {
    "name": "ipython",
    "version": 3
   },
   "file_extension": ".py",
   "mimetype": "text/x-python",
   "name": "python",
   "nbconvert_exporter": "python",
   "pygments_lexer": "ipython3",
   "version": "3.8.8"
  }
 },
 "nbformat": 4,
 "nbformat_minor": 2
}
