{
  "cells": [
    {
      "cell_type": "markdown",
      "metadata": {
        "id": "-4C1RYZfzPvi"
      },
      "source": [
        "# String Operations Lab\n",
        "\n",
        "**Before your start:**\n",
        "\n",
        "- Read the README.md file\n",
        "- Comment as much as you can and use the resources in the README.md file\n",
        "- Happy learning!"
      ]
    },
    {
      "cell_type": "code",
      "execution_count": null,
      "metadata": {
        "id": "iFHGK_ktzPvl"
      },
      "outputs": [],
      "source": [
        "import re"
      ]
    },
    {
      "cell_type": "markdown",
      "metadata": {
        "id": "_zZ9ovXKzPvn"
      },
      "source": [
        "# Challenge 1 - Combining Strings\n",
        "\n",
        "Combining strings is an important skill to acquire. There are multiple ways of combining strings in Python, as well as combining strings with variables. We will explore this in the first challenge. In the cell below, combine the strings in the list and add spaces between the strings (do not add a space after the last string). Insert a period after the last string."
      ]
    },
    {
      "cell_type": "code",
      "execution_count": null,
      "metadata": {
        "colab": {
          "base_uri": "https://localhost:8080/"
        },
        "id": "i17JpleIzPvo",
        "outputId": "1a0b0681-4a73-4ffe-9747-ab3aa44ec23d"
      },
      "outputs": [
        {
          "output_type": "stream",
          "name": "stdout",
          "text": [
            "Durante un tiempo no estuvo segura de si su marido era su marido.\n"
          ]
        }
      ],
      "source": [
        "str_list = ['Durante', 'un', 'tiempo', 'no', 'estuvo', 'segura', 'de', 'si', 'su', 'marido', 'era', 'su', 'marido']\n",
        "# Your code here:\n",
        "result_1 = \" \".join(str_list) + '.'\n",
        "print(result_1)"
      ]
    },
    {
      "cell_type": "markdown",
      "metadata": {
        "id": "R1ZH-McpzPvp"
      },
      "source": [
        "In the cell below, use the list of strings to create a grocery list. Start the list with the string `Grocery list: ` and include a comma and a space between each item except for the last one. Include a period at the end. Only include foods in the list that start with the letter 'b' and ensure all foods are lower case."
      ]
    },
    {
      "cell_type": "code",
      "execution_count": null,
      "metadata": {
        "colab": {
          "base_uri": "https://localhost:8080/"
        },
        "id": "Az1knCubzPvq",
        "outputId": "b40127ae-1b26-4fe0-9ba5-0d5d606d1e22"
      },
      "outputs": [
        {
          "output_type": "stream",
          "name": "stdout",
          "text": [
            "Grocery list:bread, broccoli.\n"
          ]
        }
      ],
      "source": [
        "food_list = ['Bananas', 'Chocolate', 'bread', 'diapers', 'Ice Cream', 'Brownie Mix', 'broccoli']\n",
        "# Your code here:\n",
        "grocery_list = \"Grocery list:\" + \", \".join([i for i in food_list if i.startswith('b')]) + \".\"\n",
        "print(grocery_list)"
      ]
    },
    {
      "cell_type": "markdown",
      "metadata": {
        "id": "ntVtVOvAzPvr"
      },
      "source": [
        "In the cell below, write a function that computes the area of a circle using its radius. Compute the area of the circle and insert the radius and the area between the two strings. Make sure to include spaces between the variable and the strings. \n",
        "\n",
        "Note: You can use the techniques we have learned so far or use f-strings. F-strings allow us to embed code inside strings. You can read more about f-strings [here](https://www.python.org/dev/peps/pep-0498/)."
      ]
    },
    {
      "cell_type": "code",
      "execution_count": null,
      "metadata": {
        "colab": {
          "base_uri": "https://localhost:8080/"
        },
        "id": "zVr8iPOpzPvs",
        "outputId": "f82b9b49-3386-45f4-d74d-245f31a87666"
      },
      "outputs": [
        {
          "output_type": "stream",
          "name": "stdout",
          "text": [
            "The area of the circle with radius:4.5 is: 63.61725123519331\n"
          ]
        }
      ],
      "source": [
        "import math\n",
        "\n",
        "string1 = \"The area of the circle with radius:\"\n",
        "string2  = \"is:\"\n",
        "radius = 4.5\n",
        "\n",
        "def area(x, pi = math.pi):\n",
        "    # This function takes a radius and returns the area of a circle. We also pass a default value for pi.\n",
        "    # Input: Float (and default value for pi)\n",
        "    # Output: Float\n",
        "    \n",
        "    # Sample input: 5.0\n",
        "    # Sample Output: 78.53981633\n",
        "    \n",
        "    # Your code here:\n",
        "    return pi * (x**2)\n",
        "    \n",
        "# Your output string here:\n",
        "print(f\"{string1}{radius} {string2} {area(radius)}\")\n"
      ]
    },
    {
      "cell_type": "markdown",
      "metadata": {
        "id": "ok6gTDiqzPvt"
      },
      "source": [
        "# Challenge 2 - Splitting Strings\n",
        "\n",
        "We have first looked at combining strings into one long string. There are times where we need to do the opposite and split the string into smaller components for further analysis. \n",
        "\n",
        "In the cell below, split the string into a list of strings using the space delimiter. Count the frequency of each word in the string in a dictionary. Strip the periods, line breaks and commas from the text. Make sure to remove empty strings from your dictionary."
      ]
    },
    {
      "cell_type": "code",
      "execution_count": null,
      "metadata": {
        "colab": {
          "base_uri": "https://localhost:8080/"
        },
        "id": "do54Ox5yzPvv",
        "outputId": "031d076d-7091-40fd-aa7b-6647a28c0c61"
      },
      "outputs": [
        {
          "output_type": "stream",
          "name": "stdout",
          "text": [
            "{'Some': 2, 'say': 3, 'the': 1, 'world': 1, 'will': 1, 'end': 1, 'in': 2, 'fire': 2, 'ice': 2, 'From': 1, 'what': 1, 'I’ve': 1, 'tasted': 1, 'of': 2, 'desire': 1, 'I': 3, 'hold': 1, 'with': 1, 'those': 1, 'who': 1, 'favor': 1, 'But': 1, 'if': 1, 'it': 1, 'had': 1, 'to': 1, 'perish': 1, 'twice': 1, 'think': 1, 'know': 1, 'enough': 1, 'hate': 1, 'To': 1, 'that': 1, 'for': 1, 'destruction': 1, 'Is': 1, 'also': 1, 'great': 1, 'And': 1, 'would': 1, 'suffice': 1}\n"
          ]
        }
      ],
      "source": [
        "poem = \"\"\"Some say the world will end in fire,\n",
        "Some say in ice.\n",
        "From what I’ve tasted of desire\n",
        "I hold with those who favor fire.\n",
        "But if it had to perish twice,\n",
        "I think I know enough of hate\n",
        "To say that for destruction ice\n",
        "Is also great\n",
        "And would suffice.\"\"\"\n",
        "\n",
        "# Your code here:\n",
        "# Splitting the poem string into individual words and storing into temp1 variable\n",
        "temp1 = poem.split()\n",
        "# STripping the commas and fullstop from the words and storing all the words in the temp2 variable\n",
        "temp2 = []\n",
        "for i in temp1:\n",
        "  if i.endswith('.'):\n",
        "    temp2.append(i.strip('.'))\n",
        "  elif i.endswith(','):\n",
        "    temp2.append(i.strip(','))\n",
        "  else:\n",
        "    temp2.append(i)\n",
        "\n",
        "# Counting the frequency of each and every word and storing in the frequency dictionary\n",
        "freq_dict = {}\n",
        "for i in temp2:\n",
        "  # Adding 1 to the count of a new word and adding 1 to the previous count of a word if that word is encountered again\n",
        "  freq_dict[i] = freq_dict.get(i, 0) + 1\n",
        "\n",
        "# Removing an empty string\n",
        "for key in freq_dict:\n",
        "  if len(key) == 0:\n",
        "    freq_dict.pop(key)\n",
        "\n",
        "print(freq_dict)\n"
      ]
    },
    {
      "cell_type": "markdown",
      "metadata": {
        "id": "iBMPY02nzPvz"
      },
      "source": [
        "In the cell below, find all the words that appear in the text and do not appear in the blacklist. You must parse the string but can choose any data structure you wish for the words that do not appear in the blacklist. Remove all non letter characters and convert all words to lower case."
      ]
    },
    {
      "cell_type": "code",
      "execution_count": null,
      "metadata": {
        "colab": {
          "base_uri": "https://localhost:8080/"
        },
        "id": "a4zheRiCzPv7",
        "outputId": "0cf4b483-68ca-4041-97f1-b1967deba0c4"
      },
      "outputs": [
        {
          "output_type": "stream",
          "name": "stdout",
          "text": [
            "['i', 'was', 'angry', 'with', 'my', 'friend', 'i', 'told', 'my', 'wrath', 'my', 'wrath', 'did', 'end', 'i', 'was', 'angry', 'with', 'my', 'foe', 'i', 'told', 'not', 'my', 'wrath', 'did', 'grow', 'i', 'waterd', 'fears', 'night', 'morning', 'with', 'my', 'tears', 'i', 'sunned', 'with', 'smiles', 'with', 'soft', 'deceitful', 'wiles', 'grew', 'both', 'day', 'night', 'till', 'bore', 'apple', 'bright', 'my', 'foe', 'beheld', 'shine', 'he', 'knew', 'that', 'was', 'mine', 'into', 'my', 'garden', 'stole', 'when', 'night', 'had', 'veild', 'pole', 'morning', 'glad', 'i', 'see', 'my', 'foe', 'outstretched', 'beneath', 'tree']\n"
          ]
        }
      ],
      "source": [
        "blacklist = ['and', 'as', 'an', 'a', 'the', 'in', 'it']\n",
        "\n",
        "poem = \"\"\"I was angry with my friend; \n",
        "I told my wrath, my wrath did end.\n",
        "I was angry with my foe: \n",
        "I told it not, my wrath did grow. \n",
        "\n",
        "And I waterd it in fears,\n",
        "Night & morning with my tears: \n",
        "And I sunned it with smiles,\n",
        "And with soft deceitful wiles. \n",
        "\n",
        "And it grew both day and night. \n",
        "Till it bore an apple bright. \n",
        "And my foe beheld it shine,\n",
        "And he knew that it was mine. \n",
        "\n",
        "And into my garden stole, \n",
        "When the night had veild the pole; \n",
        "In the morning glad I see; \n",
        "My foe outstretched beneath the tree.\"\"\"\n",
        "\n",
        "# Your code here:\n",
        "# Converting all the words into lower case\n",
        "poem = poem.lower()\n",
        "\n",
        "# Splitting the poem string into individual words and storing into temp1 variable\n",
        "temp1 = poem.split()\n",
        "\n",
        "# STripping the commas, colon, semi-colon, fullstop and removing non-letter characters from the words and storing all the words in the temp2 variable\n",
        "temp2 = []\n",
        "for i in temp1:\n",
        "  if i.endswith('.'):\n",
        "    temp2.append(i.strip('.'))\n",
        "  elif i.endswith(','):\n",
        "    temp2.append(i.strip(','))\n",
        "  elif i.endswith(':'):\n",
        "    temp2.append(i.strip(':'))\n",
        "  elif i.endswith(';'):\n",
        "    temp2.append(i.strip(';'))\n",
        "  elif not i.isalpha():\n",
        "    pass\n",
        "  else:\n",
        "    temp2.append(i)\n",
        "\n",
        "# Now filtering the words that are not in blacklist\n",
        "result = [i for i in temp2 if i not in blacklist]\n",
        "print(result)"
      ]
    },
    {
      "cell_type": "markdown",
      "metadata": {
        "id": "zsk3RUHzzPwE"
      },
      "source": [
        "# Challenge 3 - Regular Expressions\n",
        "\n",
        "Sometimes, we would like to perform more complex manipulations of our string. This is where regular expressions come in handy. In the cell below, return all characters that are upper case from the string specified below."
      ]
    },
    {
      "cell_type": "code",
      "execution_count": null,
      "metadata": {
        "colab": {
          "base_uri": "https://localhost:8080/"
        },
        "id": "iZuLkOJQzPwG",
        "outputId": "cbf6ed4a-8967-417e-b45a-faea8ddbb380"
      },
      "outputs": [
        {
          "output_type": "execute_result",
          "data": {
            "text/plain": [
              "['T', 'P']"
            ]
          },
          "metadata": {},
          "execution_count": 46
        }
      ],
      "source": [
        "import re\n",
        "\n",
        "poem = \"\"\"The apparition of these faces in the crowd;\n",
        "Petals on a wet, black bough.\"\"\"\n",
        "\n",
        "# Your code here:\n",
        "# Forming the regular expression to extract all the upper case characters\n",
        "h = re.compile('[A-Z]')\n",
        "# Finding all the characters that satusfies our regular expression\n",
        "h.findall(poem)\n"
      ]
    },
    {
      "cell_type": "markdown",
      "metadata": {
        "id": "jXyT5m_2zPwH"
      },
      "source": [
        "In the cell below, filter the list provided and return all elements of the list containing a number. To filter the list, use the `re.search` function. Check if the function does not return `None`. You can read more about the `re.search` function [here](https://docs.python.org/3/library/re.html)."
      ]
    },
    {
      "cell_type": "code",
      "execution_count": 51,
      "metadata": {
        "colab": {
          "base_uri": "https://localhost:8080/"
        },
        "id": "Eh3uwo8IzPwI",
        "outputId": "c3a7e818-edf4-4d43-a8e6-63a639c67173"
      },
      "outputs": [
        {
          "output_type": "stream",
          "name": "stdout",
          "text": [
            "123abc\n",
            "abc123\n",
            "JohnSmith1\n",
            "ABBY4\n"
          ]
        }
      ],
      "source": [
        "data = ['123abc', 'abc123', 'JohnSmith1', 'ABBY4', 'JANE']\n",
        "\n",
        "# Your code here:\n",
        "for word in data:\n",
        "  match = re.search(r'\\d+', word)\n",
        "  if match is None:\n",
        "    pass\n",
        "  else:\n",
        "    print(word)\n"
      ]
    },
    {
      "cell_type": "markdown",
      "metadata": {
        "id": "F2ATvdlczPwJ"
      },
      "source": [
        "# Bonus Challenge - Regular Expressions II\n",
        "\n",
        "In the cell below, filter the list provided to keep only strings containing at least one digit and at least one lower case letter. As in the previous question, use the `re.search` function and check that the result is not `None`.\n",
        "\n",
        "To read more about regular expressions, check out [this link](https://developers.google.com/edu/python/regular-expressions)."
      ]
    },
    {
      "cell_type": "code",
      "execution_count": 88,
      "metadata": {
        "id": "2Flf0UENzPwX",
        "colab": {
          "base_uri": "https://localhost:8080/"
        },
        "outputId": "9150aa99-bdc9-4bbb-bd6e-a33813150b16"
      },
      "outputs": [
        {
          "output_type": "stream",
          "name": "stdout",
          "text": [
            "123abc\n",
            "abc123\n",
            "JohnSmith1\n"
          ]
        }
      ],
      "source": [
        "data = ['123abc', 'abc123', 'JohnSmith1', 'ABBY4', 'JANE']\n",
        "# Your code here:\n",
        "for word in data:\n",
        "  match = re.search('(?=.*?[0-9])(?=.*?[a-z])', word)\n",
        "  if match is None:\n",
        "    pass\n",
        "  else:\n",
        "    print(word)"
      ]
    },
    {
      "cell_type": "code",
      "source": [
        ""
      ],
      "metadata": {
        "id": "FdVp-YwjwYkD"
      },
      "execution_count": 63,
      "outputs": []
    }
  ],
  "metadata": {
    "kernelspec": {
      "display_name": "Python 3 (ipykernel)",
      "language": "python",
      "name": "python3"
    },
    "language_info": {
      "codemirror_mode": {
        "name": "ipython",
        "version": 3
      },
      "file_extension": ".py",
      "mimetype": "text/x-python",
      "name": "python",
      "nbconvert_exporter": "python",
      "pygments_lexer": "ipython3",
      "version": "3.9.7"
    },
    "colab": {
      "name": "challenge-1.ipynb",
      "provenance": [],
      "collapsed_sections": []
    }
  },
  "nbformat": 4,
  "nbformat_minor": 0
}