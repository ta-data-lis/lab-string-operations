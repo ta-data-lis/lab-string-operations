{
  "nbformat": 4,
  "nbformat_minor": 0,
  "metadata": {
    "colab": {
      "name": "strings.ipynb",
      "provenance": [],
      "collapsed_sections": []
    },
    "kernelspec": {
      "name": "python3",
      "display_name": "Python 3"
    }
  },
  "cells": [
    {
      "cell_type": "markdown",
      "metadata": {
        "id": "RR2Qt9g2xlcN"
      },
      "source": [
        "# String Operations\n",
        "#### It is extremely common to manipulate strings as part of projects. Be it when accepting input from users, cleaning a \"wordy\" dataset or simply in creating sentences, it is crucial to be able to read, process and manipulate string objects.\n",
        "\n",
        "\n",
        "Cool article :) \n",
        "https://medium.com/dev-genius/python-string-operations-f8eeabf8eb71"
      ]
    },
    {
      "cell_type": "code",
      "metadata": {
        "id": "Q-7_OfPG38WX"
      },
      "source": [
        "my_string = \"Hello I am a string\"\n",
        "\n",
        "# strings are sequences of characters\n",
        "# some mathematical operations -> + , *\n",
        "# they are iterable -> each element is a character inside the string\n",
        "\n",
        "# OBJECTS -> like everything in python -> they have methods"
      ],
      "execution_count": null,
      "outputs": []
    },
    {
      "cell_type": "code",
      "metadata": {
        "id": "BzNjOAkv4kR8",
        "colab": {
          "base_uri": "https://localhost:8080/"
        },
        "outputId": "134882b6-1825-4d39-df81-0c697fa7134a"
      },
      "source": [
        "for letter in my_string:\n",
        "  print(letter)"
      ],
      "execution_count": null,
      "outputs": [
        {
          "output_type": "stream",
          "text": [
            "H\n",
            "e\n",
            "l\n",
            "l\n",
            "o\n",
            " \n",
            "I\n",
            " \n",
            "a\n",
            "m\n",
            " \n",
            "a\n",
            " \n",
            "s\n",
            "t\n",
            "r\n",
            "i\n",
            "n\n",
            "g\n"
          ],
          "name": "stdout"
        }
      ]
    },
    {
      "cell_type": "code",
      "metadata": {
        "id": "waSH_xr842YN",
        "colab": {
          "base_uri": "https://localhost:8080/",
          "height": 37
        },
        "outputId": "be7820ba-8e81-40fd-b0be-f303031d4e18"
      },
      "source": [
        "# they have many many cool methods\n",
        "\n",
        "# all upper case\n",
        "my_string.upper()"
      ],
      "execution_count": null,
      "outputs": [
        {
          "output_type": "execute_result",
          "data": {
            "application/vnd.google.colaboratory.intrinsic+json": {
              "type": "string"
            },
            "text/plain": [
              "'HELLO I AM A STRING'"
            ]
          },
          "metadata": {
            "tags": []
          },
          "execution_count": 3
        }
      ]
    },
    {
      "cell_type": "code",
      "metadata": {
        "id": "H9sQQNgNwE6W",
        "colab": {
          "base_uri": "https://localhost:8080/",
          "height": 37
        },
        "outputId": "0959c7c2-e7f5-4212-8438-4229c1d85e4b"
      },
      "source": [
        "# it is not inplace\n",
        "my_string"
      ],
      "execution_count": null,
      "outputs": [
        {
          "output_type": "execute_result",
          "data": {
            "application/vnd.google.colaboratory.intrinsic+json": {
              "type": "string"
            },
            "text/plain": [
              "'Hello I am a string'"
            ]
          },
          "metadata": {
            "tags": []
          },
          "execution_count": 4
        }
      ]
    },
    {
      "cell_type": "code",
      "metadata": {
        "id": "Hz_89FKQ494H",
        "colab": {
          "base_uri": "https://localhost:8080/",
          "height": 37
        },
        "outputId": "669d52df-951f-4766-fda4-a7577ec8bec0"
      },
      "source": [
        "# all lowercase\n",
        "my_string.lower()"
      ],
      "execution_count": null,
      "outputs": [
        {
          "output_type": "execute_result",
          "data": {
            "application/vnd.google.colaboratory.intrinsic+json": {
              "type": "string"
            },
            "text/plain": [
              "'hello i am a string'"
            ]
          },
          "metadata": {
            "tags": []
          },
          "execution_count": 5
        }
      ]
    },
    {
      "cell_type": "code",
      "metadata": {
        "id": "7Na_tRJN4_hU"
      },
      "source": [
        "# it is not inplace\n",
        "# if you want to change it, you must re-assign\n",
        "my_string = my_string.upper()"
      ],
      "execution_count": null,
      "outputs": []
    },
    {
      "cell_type": "code",
      "metadata": {
        "id": "bd0mlxVT5GQo",
        "colab": {
          "base_uri": "https://localhost:8080/",
          "height": 35
        },
        "outputId": "892b658d-f117-4716-bcbc-df0e95dc07c0"
      },
      "source": [
        "my_string"
      ],
      "execution_count": null,
      "outputs": [
        {
          "output_type": "execute_result",
          "data": {
            "application/vnd.google.colaboratory.intrinsic+json": {
              "type": "string"
            },
            "text/plain": [
              "'HELLO I AM A STRING'"
            ]
          },
          "metadata": {
            "tags": []
          },
          "execution_count": 8
        }
      ]
    },
    {
      "cell_type": "code",
      "metadata": {
        "id": "W2M7xi1Myk-r",
        "colab": {
          "base_uri": "https://localhost:8080/",
          "height": 37
        },
        "outputId": "0ff3493a-9f80-4095-a18f-e364f9ead691"
      },
      "source": [
        "#the case functions are quite useful\n",
        "\n",
        "#my_string.strip()\n",
        "\n",
        "#my_string.count(\"hello\")\n",
        "\n",
        "#my_string.find(\"hello\")"
      ],
      "execution_count": null,
      "outputs": [
        {
          "output_type": "execute_result",
          "data": {
            "application/vnd.google.colaboratory.intrinsic+json": {
              "type": "string"
            },
            "text/plain": [
              "'Hello I am a string'"
            ]
          },
          "metadata": {
            "tags": []
          },
          "execution_count": 12
        }
      ]
    },
    {
      "cell_type": "code",
      "metadata": {
        "id": "kAozlZSQ5NFM",
        "colab": {
          "base_uri": "https://localhost:8080/",
          "height": 195
        },
        "outputId": "09703a1b-9ee6-41ec-9d47-3b452eeddf43"
      },
      "source": [
        "# they can be indexed, but are not mutable\n",
        "# you cannot reassign a letter inside an existing string simply with an index call\n",
        "my_string[0] = 'a'"
      ],
      "execution_count": null,
      "outputs": [
        {
          "output_type": "error",
          "ename": "TypeError",
          "evalue": "ignored",
          "traceback": [
            "\u001b[0;31m---------------------------------------------------------------------------\u001b[0m",
            "\u001b[0;31mTypeError\u001b[0m                                 Traceback (most recent call last)",
            "\u001b[0;32m<ipython-input-9-fc3efdfe9081>\u001b[0m in \u001b[0;36m<module>\u001b[0;34m()\u001b[0m\n\u001b[1;32m      1\u001b[0m \u001b[0;31m# they can be indexed, but are not mutable\u001b[0m\u001b[0;34m\u001b[0m\u001b[0;34m\u001b[0m\u001b[0;34m\u001b[0m\u001b[0m\n\u001b[1;32m      2\u001b[0m \u001b[0;31m# you cannot reassign a letter inside an existing string simply with an index call\u001b[0m\u001b[0;34m\u001b[0m\u001b[0;34m\u001b[0m\u001b[0;34m\u001b[0m\u001b[0m\n\u001b[0;32m----> 3\u001b[0;31m \u001b[0mmy_string\u001b[0m\u001b[0;34m[\u001b[0m\u001b[0;36m0\u001b[0m\u001b[0;34m]\u001b[0m \u001b[0;34m=\u001b[0m \u001b[0;34m'a'\u001b[0m\u001b[0;34m\u001b[0m\u001b[0;34m\u001b[0m\u001b[0m\n\u001b[0m",
            "\u001b[0;31mTypeError\u001b[0m: 'str' object does not support item assignment"
          ]
        }
      ]
    },
    {
      "cell_type": "code",
      "metadata": {
        "id": "arU1rPWm557A",
        "colab": {
          "base_uri": "https://localhost:8080/",
          "height": 37
        },
        "outputId": "56a6cad5-8a76-415c-f983-fd4a300f3f9b"
      },
      "source": [
        "my_string = \"it is what it is\"\n",
        "\n",
        "# count the number of occurences of a substring inside another one\n",
        "my_string.count(\" \")\n",
        "\n",
        "# find a substring\n",
        "#my_string.find(\"is\")\n",
        "\n",
        "# replace a string by another string\n",
        "## quite useful to send generalized emails but changing the names ;) --> Returns a string where a specified value is replaced with a specified value\n",
        "\n",
        "\n",
        "#my_string.replace(\"it\",\"that\")"
      ],
      "execution_count": null,
      "outputs": [
        {
          "output_type": "execute_result",
          "data": {
            "application/vnd.google.colaboratory.intrinsic+json": {
              "type": "string"
            },
            "text/plain": [
              "'that is what that is'"
            ]
          },
          "metadata": {
            "tags": []
          },
          "execution_count": 17
        }
      ]
    },
    {
      "cell_type": "code",
      "metadata": {
        "id": "fX975Sx-g3ui",
        "colab": {
          "base_uri": "https://localhost:8080/",
          "height": 35
        },
        "outputId": "4f89024b-7064-4114-b68b-13b8f4475a1d"
      },
      "source": [
        "# not inplace\n",
        "my_string"
      ],
      "execution_count": null,
      "outputs": [
        {
          "output_type": "execute_result",
          "data": {
            "application/vnd.google.colaboratory.intrinsic+json": {
              "type": "string"
            },
            "text/plain": [
              "'it is what it is'"
            ]
          },
          "metadata": {
            "tags": []
          },
          "execution_count": 14
        }
      ]
    },
    {
      "cell_type": "code",
      "metadata": {
        "id": "Qt2NTRAs6e5V",
        "colab": {
          "base_uri": "https://localhost:8080/"
        },
        "outputId": "95673607-7fc4-4176-bdc5-794d7f7f205e"
      },
      "source": [
        "# check if a string is a substring\n",
        "\"what\" in my_string"
      ],
      "execution_count": null,
      "outputs": [
        {
          "output_type": "execute_result",
          "data": {
            "text/plain": [
              "True"
            ]
          },
          "metadata": {
            "tags": []
          },
          "execution_count": 16
        }
      ]
    },
    {
      "cell_type": "code",
      "metadata": {
        "id": "tDd_TYjn6tfP"
      },
      "source": [
        "# challenge: find a way of checking if a given string is inside another irrespective of casing\n",
        "# e.g. GooD is in \"It is a good day for fishing\""
      ],
      "execution_count": null,
      "outputs": []
    },
    {
      "cell_type": "code",
      "metadata": {
        "colab": {
          "base_uri": "https://localhost:8080/"
        },
        "id": "AnDtzcbNmGeh",
        "outputId": "9bcb0833-3d63-488b-9a62-8f066d3f1234"
      },
      "source": [
        "# solution: case both the word and the string\n",
        "\"wHat\".upper() in my_string.upper()"
      ],
      "execution_count": null,
      "outputs": [
        {
          "output_type": "execute_result",
          "data": {
            "text/plain": [
              "True"
            ]
          },
          "metadata": {
            "tags": []
          },
          "execution_count": 20
        }
      ]
    },
    {
      "cell_type": "code",
      "metadata": {
        "id": "2cfCdcXR7MqN",
        "colab": {
          "base_uri": "https://localhost:8080/"
        },
        "outputId": "dc47d782-be62-4812-891f-365df9f405bc"
      },
      "source": [
        "# the most useful string method -> split method\n",
        "# also intro to escaped list characters, in particular \\n\n",
        "\n",
        "# You can assign a multiline string to a variable by using three quotes:\n",
        "\n",
        "my_string = \"\"\"A little bit of Monica in my life\n",
        "A little bit of Erica by my side\n",
        "A little bit of Rita is all I need\n",
        "A little bit of Tina is what I see\n",
        "A little bit of Sandra in the sun\n",
        "A little bit of Mary all night long\n",
        "A little bit of Jessica, here I am\n",
        "A little bit of you makes me your man \"\"\"\n",
        "\n",
        "my_string.split(\" \")\n",
        "my_string.split(\"\\n\")\n",
        "my_string.split(\"little\")"
      ],
      "execution_count": null,
      "outputs": [
        {
          "output_type": "execute_result",
          "data": {
            "text/plain": [
              "['A ',\n",
              " ' bit of Monica in my life\\nA ',\n",
              " ' bit of Erica by my side\\nA ',\n",
              " ' bit of Rita is all I need\\nA ',\n",
              " ' bit of Tina is what I see\\nA ',\n",
              " ' bit of Sandra in the sun\\nA ',\n",
              " ' bit of Mary all night long\\nA ',\n",
              " ' bit of Jessica, here I am\\nA ',\n",
              " ' bit of you makes me your man ']"
            ]
          },
          "metadata": {
            "tags": []
          },
          "execution_count": 14
        }
      ]
    },
    {
      "cell_type": "code",
      "metadata": {
        "id": "KXbMgIgJ9xcl",
        "colab": {
          "base_uri": "https://localhost:8080/"
        },
        "outputId": "3feca446-6c9f-4fc1-bd81-c28109fbed0f"
      },
      "source": [
        "# bring a list of strings back to one string only -> join method\n",
        "\n",
        "list_strings =['hello', 'my','name','is','walter']\n",
        "\n",
        "print(' '.join(list_strings))\n",
        "print(''.join(list_strings))\n",
        "print('\\n'.join(list_strings))"
      ],
      "execution_count": null,
      "outputs": [
        {
          "output_type": "stream",
          "text": [
            "hello my name is walter\n",
            "hellomynameiswalter\n",
            "hello\n",
            "my\n",
            "name\n",
            "is\n",
            "walter\n"
          ],
          "name": "stdout"
        }
      ]
    },
    {
      "cell_type": "markdown",
      "metadata": {
        "id": "0MeDsvrMFYJw"
      },
      "source": [
        "#Regex intoduction\n",
        "\n",
        "A RegEx, or Regular Expression, is a sequence of characters that forms a search pattern.\n",
        "\n",
        "sometimes string operations are not enough because you need more general rules/criteria -> Regex is a grammar that helps us with this regex are a bunch of rules that allow you to detect patterns in text\n",
        "\n",
        "RegEx can be used to check if a string contains the specified search pattern\n",
        "\n",
        "Documentation: https://docs.python.org/3/library/re.html\n",
        "\n",
        "Quick Dock: https://www.w3schools.com/python/python_regex.asp\n",
        "\n",
        "Testing expressions: https://regexr.com "
      ]
    },
    {
      "cell_type": "markdown",
      "metadata": {
        "id": "t0nkyU6AG8Zm"
      },
      "source": [
        "- Raw strings (for regex class)\n",
        "\n",
        "the 'r' means the the following is a \"raw string\", ie. backslash characters are treated literally instead of signifying special treatment of the following character.\n",
        "\n",
        "example: \n",
        "\n",
        "\n",
        "so '\\n' is a single newline\n",
        "and r'\\n' is two characters - a backslash and the letter 'n'\n",
        "another way to write it would be '\\\\n' because the first backslash escapes the second"
      ]
    },
    {
      "cell_type": "code",
      "metadata": {
        "id": "5j8dn5F6-16J"
      },
      "source": [
        "# regex \n",
        "\n",
        "song = \"\"\"A little bit of Monica in my life\n",
        "A little bit of Erica by my side\n",
        "A little bit of Rita is all I need\n",
        "A little bit of Tina is what I see\n",
        "A little bit of Sandra in the sun\n",
        "A little bit of Mary all night long\n",
        "A little bit of Jessica, here I am\n",
        "A little bit of you makes me your man \"\"\"\n",
        "\n",
        "# sometimes string operations are not enough because you need more general rules/criteria -> Regex is a grammar that helps us with this\n",
        "# regex are a bunch of rules that allow you to detect patterns in text\n",
        "# \n",
        "\n",
        "#NTS: show single character, [], +, \\w, \\W, \\d, \\D \n",
        "\n",
        "# [] --> A set of characters \n",
        "# + --> one ore more the character before\n",
        "# \\w --> characters from a to Z, digits from 0-9, and the underscore _ character\n",
        "# \\W --> Returns a match where the string DOES NOT contain any word characters --> contrary of \\w\n",
        "# \\d --> Returns a match where the string contains digits (numbers from 0-9)\n",
        "# \\D --> Returns a match where the string DOES NOT contain digits"
      ],
      "execution_count": null,
      "outputs": []
    },
    {
      "cell_type": "code",
      "metadata": {
        "id": "XVVbfpUqBFZs"
      },
      "source": [
        "# importing regex\n",
        "import re\n",
        "\n",
        "#findall\n",
        "\n",
        "#sub\n",
        "\n",
        "#the only rules we will use are \"Find letter\", \"compose\" and \"repeat letter\" \n",
        "rule = '[A-Z][a-z]+'\n"
      ],
      "execution_count": null,
      "outputs": []
    },
    {
      "cell_type": "code",
      "metadata": {
        "colab": {
          "base_uri": "https://localhost:8080/"
        },
        "id": "Q6YN63X1neTQ",
        "outputId": "fe21ba23-94b7-48d9-a1ea-ec81a2f33c69"
      },
      "source": [
        "re.findall(rule, song)"
      ],
      "execution_count": null,
      "outputs": [
        {
          "output_type": "execute_result",
          "data": {
            "text/plain": [
              "['Monica', 'Erica', 'Rita', 'Tina', 'Sandra', 'Mary', 'Jessica']"
            ]
          },
          "metadata": {
            "tags": []
          },
          "execution_count": 38
        }
      ]
    },
    {
      "cell_type": "code",
      "metadata": {
        "id": "ots2a8eWCChW",
        "colab": {
          "base_uri": "https://localhost:8080/"
        },
        "outputId": "f77785ea-82af-4a6c-d07c-735c9aefc7e8"
      },
      "source": [
        "# sub substitutes the ocurrences found with an input requested to user\n",
        "new_name= input()\n",
        "print(re.sub(rule, new_name ,song))"
      ],
      "execution_count": null,
      "outputs": [
        {
          "output_type": "stream",
          "text": [
            "Jose\n",
            "A little bit of Jose in my life\n",
            "A little bit of Jose by my side\n",
            "A little bit of Jose is all I need\n",
            "A little bit of Jose is what I see\n",
            "A little bit of Jose in the sun\n",
            "A little bit of Jose all night long\n",
            "A little bit of Jose, here I am\n",
            "A little bit of you makes me your man \n"
          ],
          "name": "stdout"
        }
      ]
    },
    {
      "cell_type": "code",
      "metadata": {
        "id": "Kd9qn9s_D_Yx",
        "colab": {
          "base_uri": "https://localhost:8080/"
        },
        "outputId": "3922b2c9-5ae2-4362-af84-78d03d6d06c4"
      },
      "source": [
        ""
      ],
      "execution_count": null,
      "outputs": [
        {
          "output_type": "execute_result",
          "data": {
            "text/plain": [
              "['Monica', 'Erica', 'Rita', 'Tina', 'Sandra', 'Mary', 'Jessica']"
            ]
          },
          "metadata": {
            "tags": []
          },
          "execution_count": 37
        }
      ]
    },
    {
      "cell_type": "code",
      "metadata": {
        "id": "snL0zITRnXcz"
      },
      "source": [
        ""
      ],
      "execution_count": null,
      "outputs": []
    }
  ]
}