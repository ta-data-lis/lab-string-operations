{
 "cells": [
  {
   "cell_type": "markdown",
   "metadata": {},
   "source": [
    "# String Operations Lab\n",
    "\n",
    "**Before your start:**\n",
    "\n",
    "- Read the README.md file\n",
    "- Comment as much as you can and use the resources in the README.md file\n",
    "- Happy learning!"
   ]
  },
  {
   "cell_type": "code",
   "execution_count": 1,
   "metadata": {},
   "outputs": [],
   "source": [
    "import re"
   ]
  },
  {
   "cell_type": "markdown",
   "metadata": {},
   "source": [
    "# Challenge 1 - Combining Strings\n",
    "\n",
    "Combining strings is an important skill to acquire. There are multiple ways of combining strings in Python, as well as combining strings with variables. We will explore this in the first challenge. In the cell below, combine the strings in the list and add spaces between the strings (do not add a space after the last string). Insert a period after the last string."
   ]
  },
  {
   "cell_type": "code",
   "execution_count": 3,
   "metadata": {},
   "outputs": [
    {
     "data": {
      "text/plain": [
       "'Durante un tiempo no estuvo segura de si su marido era su marido'"
      ]
     },
     "execution_count": 3,
     "metadata": {},
     "output_type": "execute_result"
    }
   ],
   "source": [
    "str_list = ['Durante', 'un', 'tiempo', 'no', 'estuvo', 'segura', 'de', 'si', 'su', 'marido', 'era', 'su', 'marido']\n",
    "# Your code here:\n",
    "' '.join(str_list)"
   ]
  },
  {
   "cell_type": "markdown",
   "metadata": {},
   "source": [
    "In the cell below, use the list of strings to create a grocery list. Start the list with the string `Grocery list: ` and include a comma and a space between each item except for the last one. Include a period at the end. Only include foods in the list that start with the letter 'b' and ensure all foods are lower case."
   ]
  },
  {
   "cell_type": "code",
   "execution_count": 19,
   "metadata": {},
   "outputs": [
    {
     "data": {
      "text/plain": [
       "'Grocery list: bananas, bread, brownie mix, broccoli.'"
      ]
     },
     "execution_count": 19,
     "metadata": {},
     "output_type": "execute_result"
    }
   ],
   "source": [
    "food_list = ['Bananas', 'Chocolate', 'bread', 'diapers', 'Ice Cream', 'Brownie Mix', 'broccoli']\n",
    "# Your code here:\n",
    "b_foods = [food for food in food_list for l in food if (l == 'b') or (l == 'B')]\n",
    "b_foods\n",
    "\n",
    "Grocery_list= \"Grocery list: \" + ', '.join(b_foods).lower() + \".\"\n",
    "Grocery_list"
   ]
  },
  {
   "cell_type": "markdown",
   "metadata": {},
   "source": [
    "In the cell below, write a function that computes the area of a circle using its radius. Compute the area of the circle and insert the radius and the area between the two strings. Make sure to include spaces between the variable and the strings. \n",
    "\n",
    "Note: You can use the techniques we have learned so far or use f-strings. F-strings allow us to embed code inside strings. You can read more about f-strings [here](https://www.python.org/dev/peps/pep-0498/)."
   ]
  },
  {
   "cell_type": "code",
   "execution_count": 25,
   "metadata": {},
   "outputs": [
    {
     "data": {
      "text/plain": [
       "'The area of the circle with radius: 5.0 is: 78.53981633974483'"
      ]
     },
     "execution_count": 25,
     "metadata": {},
     "output_type": "execute_result"
    }
   ],
   "source": [
    "import math\n",
    "\n",
    "string1 = \"The area of the circle with radius:\"\n",
    "string2  = \"is:\"\n",
    "radius = 5.0\n",
    "\n",
    "def area(x, pi = math.pi):\n",
    "    # This function takes a radius and returns the area of a circle. We also pass a default value for pi.\n",
    "    # Input: Float (and default value for pi)\n",
    "    # Output: Float\n",
    "    \n",
    "    # Sample input: 5.0\n",
    "    # Sample Output: 78.53981633\n",
    "    \n",
    "    # Your code here:\n",
    "    return pi * (x**2)\n",
    "    \n",
    "# Your output string here:\n",
    "\n",
    "f'{string1} {radius} {string2} {area(radius)}'"
   ]
  },
  {
   "cell_type": "markdown",
   "metadata": {},
   "source": [
    "# Challenge 2 - Splitting Strings\n",
    "\n",
    "We have first looked at combining strings into one long string. There are times where we need to do the opposite and split the string into smaller components for further analysis. \n",
    "\n",
    "In the cell below, split the string into a list of strings using the space delimiter. Count the frequency of each word in the string in a dictionary. Strip the periods, line breaks and commas from the text. Make sure to remove empty strings from your dictionary."
   ]
  },
  {
   "cell_type": "code",
   "execution_count": 55,
   "metadata": {},
   "outputs": [
    {
     "data": {
      "text/plain": [
       "{'And': 1,\n",
       " 'But': 1,\n",
       " 'From': 1,\n",
       " 'I': 3,\n",
       " 'Is': 1,\n",
       " 'I’ve': 1,\n",
       " 'Some': 2,\n",
       " 'To': 1,\n",
       " 'also': 1,\n",
       " 'desire': 1,\n",
       " 'destruction': 1,\n",
       " 'end': 1,\n",
       " 'enough': 1,\n",
       " 'favor': 1,\n",
       " 'fire': 2,\n",
       " 'for': 1,\n",
       " 'great': 1,\n",
       " 'had': 1,\n",
       " 'hate': 1,\n",
       " 'hold': 1,\n",
       " 'ice': 2,\n",
       " 'if': 1,\n",
       " 'in': 2,\n",
       " 'it': 1,\n",
       " 'know': 1,\n",
       " 'of': 2,\n",
       " 'perish': 1,\n",
       " 'say': 3,\n",
       " 'suffice': 1,\n",
       " 'tasted': 1,\n",
       " 'that': 1,\n",
       " 'the': 1,\n",
       " 'think': 1,\n",
       " 'those': 1,\n",
       " 'to': 1,\n",
       " 'twice': 1,\n",
       " 'what': 1,\n",
       " 'who': 1,\n",
       " 'will': 1,\n",
       " 'with': 1,\n",
       " 'world': 1,\n",
       " 'would': 1}"
      ]
     },
     "execution_count": 55,
     "metadata": {},
     "output_type": "execute_result"
    }
   ],
   "source": [
    "poem = \"\"\"Some say the world will end in fire,\n",
    "Some say in ice.\n",
    "From what I’ve tasted of desire\n",
    "I hold with those who favor fire.\n",
    "But if it had to perish twice,\n",
    "I think I know enough of hate\n",
    "To say that for destruction ice\n",
    "Is also great\n",
    "And would suffice.\"\"\"\n",
    "\n",
    "# Your code here:\n",
    "\n",
    "#cleaning the string --> retrieving individual words\n",
    "clean_string = poem.replace('.', '').replace(',', '').replace('\\n', ' ')\n",
    "poem_dict = {}\n",
    "\n",
    "\n",
    "#looping for creating a count dict in alphabetical order\n",
    "for word in sorted(clean_string.split(' ')):\n",
    "    if word in poem_dict.keys():\n",
    "        poem_dict[word] += 1\n",
    "    else:\n",
    "        poem_dict[word] = 1\n",
    "poem_dict"
   ]
  },
  {
   "cell_type": "markdown",
   "metadata": {},
   "source": [
    "In the cell below, find all the words that appear in the text and do not appear in the blacklist. You must parse the string but can choose any data structure you wish for the words that do not appear in the blacklist. Remove all non letter characters and convert all words to lower case."
   ]
  },
  {
   "cell_type": "code",
   "execution_count": 64,
   "metadata": {},
   "outputs": [
    {
     "data": {
      "text/plain": [
       "['i',\n",
       " 'was',\n",
       " 'angry',\n",
       " 'with',\n",
       " 'my',\n",
       " 'friend',\n",
       " 'i',\n",
       " 'told',\n",
       " 'my',\n",
       " 'wrath',\n",
       " 'my',\n",
       " 'wrath',\n",
       " 'did',\n",
       " 'endi',\n",
       " 'was',\n",
       " 'angry',\n",
       " 'with',\n",
       " 'my',\n",
       " 'foe:',\n",
       " 'i',\n",
       " 'told',\n",
       " 'it',\n",
       " 'not',\n",
       " 'my',\n",
       " 'wrath',\n",
       " 'did',\n",
       " 'grow',\n",
       " 'and',\n",
       " 'i',\n",
       " 'waterd',\n",
       " 'it',\n",
       " 'in',\n",
       " 'fearsnight',\n",
       " '&',\n",
       " 'morning',\n",
       " 'with',\n",
       " 'my',\n",
       " 'tears:',\n",
       " 'and',\n",
       " 'i',\n",
       " 'sunned',\n",
       " 'it',\n",
       " 'with',\n",
       " 'smilesand',\n",
       " 'with',\n",
       " 'soft',\n",
       " 'deceitful',\n",
       " 'wiles',\n",
       " 'and',\n",
       " 'it',\n",
       " 'grew',\n",
       " 'both',\n",
       " 'day',\n",
       " 'and',\n",
       " 'night',\n",
       " 'till',\n",
       " 'it',\n",
       " 'bore',\n",
       " 'an',\n",
       " 'apple',\n",
       " 'bright',\n",
       " 'and',\n",
       " 'my',\n",
       " 'foe',\n",
       " 'beheld',\n",
       " 'it',\n",
       " 'shineand',\n",
       " 'he',\n",
       " 'knew',\n",
       " 'that',\n",
       " 'it',\n",
       " 'was',\n",
       " 'mine',\n",
       " 'and',\n",
       " 'into',\n",
       " 'my',\n",
       " 'garden',\n",
       " 'stole',\n",
       " 'when',\n",
       " 'the',\n",
       " 'night',\n",
       " 'had',\n",
       " 'veild',\n",
       " 'the',\n",
       " 'pole',\n",
       " 'in',\n",
       " 'the',\n",
       " 'morning',\n",
       " 'glad',\n",
       " 'i',\n",
       " 'see',\n",
       " 'my',\n",
       " 'foe',\n",
       " 'outstretched',\n",
       " 'beneath',\n",
       " 'the',\n",
       " 'tree']"
      ]
     },
     "execution_count": 64,
     "metadata": {},
     "output_type": "execute_result"
    }
   ],
   "source": [
    "blacklist = ['and', 'as', 'an', 'a', 'the', 'in', 'it']\n",
    "\n",
    "poem = \"\"\"I was angry with my friend; \n",
    "I told my wrath, my wrath did end.\n",
    "I was angry with my foe: \n",
    "I told it not, my wrath did grow. \n",
    "\n",
    "And I waterd it in fears,\n",
    "Night & morning with my tears: \n",
    "And I sunned it with smiles,\n",
    "And with soft deceitful wiles. \n",
    "\n",
    "And it grew both day and night. \n",
    "Till it bore an apple bright. \n",
    "And my foe beheld it shine,\n",
    "And he knew that it was mine. \n",
    "\n",
    "And into my garden stole, \n",
    "When the night had veild the pole; \n",
    "In the morning glad I see; \n",
    "My foe outstretched beneath the tree.\"\"\"\n",
    "\n",
    "# Your code here:\n",
    "clean_poem = poem.replace('.', '').replace(',', '').replace('\\n', '').replace(';','').split()\n",
    "\n",
    "filtered_poem = [word.lower() for word in clean_poem if word is not blacklist]\n",
    "filtered_poem"
   ]
  },
  {
   "cell_type": "markdown",
   "metadata": {},
   "source": [
    "# Challenge 3 - Regular Expressions\n",
    "\n",
    "Sometimes, we would like to perform more complex manipulations of our string. This is where regular expressions come in handy. In the cell below, return all characters that are upper case from the string specified below."
   ]
  },
  {
   "cell_type": "code",
   "execution_count": 65,
   "metadata": {},
   "outputs": [
    {
     "data": {
      "text/plain": [
       "['T', 'P']"
      ]
     },
     "execution_count": 65,
     "metadata": {},
     "output_type": "execute_result"
    }
   ],
   "source": [
    "import re\n",
    "\n",
    "poem = \"\"\"The apparition of these faces in the crowd;\n",
    "Petals on a wet, black bough.\"\"\"\n",
    "\n",
    "# Your code here:\n",
    "rule='[A-Z+]'\n",
    "re.findall(rule, poem)"
   ]
  },
  {
   "cell_type": "markdown",
   "metadata": {},
   "source": [
    "In the cell below, filter the list provided and return all elements of the list containing a number. To filter the list, use the `re.search` function. Check if the function does not return `None`. You can read more about the `re.search` function [here](https://docs.python.org/3/library/re.html)."
   ]
  },
  {
   "cell_type": "code",
   "execution_count": 75,
   "metadata": {},
   "outputs": [
    {
     "data": {
      "text/plain": [
       "['123abc', 'abc123', 'JohnSmith1', 'ABBY4']"
      ]
     },
     "execution_count": 75,
     "metadata": {},
     "output_type": "execute_result"
    }
   ],
   "source": [
    "data = ['123abc', 'abc123', 'JohnSmith1', 'ABBY4', 'JANE']\n",
    "\n",
    "# Your code here:\n",
    "[el for el in data if re.search(\"\\d\", el)]"
   ]
  },
  {
   "cell_type": "markdown",
   "metadata": {},
   "source": [
    "# Bonus Challenge - Regular Expressions II\n",
    "\n",
    "In the cell below, filter the list provided to keep only strings containing at least one digit and at least one lower case letter. As in the previous question, use the `re.search` function and check that the result is not `None`.\n",
    "\n",
    "To read more about regular expressions, check out [this link](https://developers.google.com/edu/python/regular-expressions)."
   ]
  },
  {
   "cell_type": "code",
   "execution_count": 83,
   "metadata": {},
   "outputs": [
    {
     "data": {
      "text/plain": [
       "['123abc', 'abc123', 'JohnSmith1']"
      ]
     },
     "execution_count": 83,
     "metadata": {},
     "output_type": "execute_result"
    }
   ],
   "source": [
    "data = ['123abc', 'abc123', 'JohnSmith1', 'ABBY4', 'JANE']\n",
    "# Your code here:\n",
    "[el for el in data if re.search(\"\\d\", el) and re.search(\"[a-z]\", el)]"
   ]
  },
  {
   "cell_type": "code",
   "execution_count": null,
   "metadata": {},
   "outputs": [],
   "source": []
  }
 ],
 "metadata": {
  "kernelspec": {
   "display_name": "Python 3 (ipykernel)",
   "language": "python",
   "name": "python3"
  },
  "language_info": {
   "codemirror_mode": {
    "name": "ipython",
    "version": 3
   },
   "file_extension": ".py",
   "mimetype": "text/x-python",
   "name": "python",
   "nbconvert_exporter": "python",
   "pygments_lexer": "ipython3",
   "version": "3.9.7"
  }
 },
 "nbformat": 4,
 "nbformat_minor": 2
}
