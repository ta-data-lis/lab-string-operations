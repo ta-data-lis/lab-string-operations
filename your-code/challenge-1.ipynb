{
  "nbformat": 4,
  "nbformat_minor": 0,
  "metadata": {
    "kernelspec": {
      "display_name": "Python 3",
      "language": "python",
      "name": "python3"
    },
    "language_info": {
      "codemirror_mode": {
        "name": "ipython",
        "version": 3
      },
      "file_extension": ".py",
      "mimetype": "text/x-python",
      "name": "python",
      "nbconvert_exporter": "python",
      "pygments_lexer": "ipython3",
      "version": "3.6.8"
    },
    "colab": {
      "name": "challenge-1.ipynb",
      "provenance": []
    }
  },
  "cells": [
    {
      "cell_type": "markdown",
      "metadata": {
        "id": "NtE4R4MiQiep"
      },
      "source": [
        "# String Operations Lab\n",
        "\n",
        "**Before your start:**\n",
        "\n",
        "- Read the README.md file\n",
        "- Comment as much as you can and use the resources in the README.md file\n",
        "- Happy learning!"
      ]
    },
    {
      "cell_type": "code",
      "metadata": {
        "id": "nNw1mFdtQiew"
      },
      "source": [
        "import re\n",
        "import math"
      ],
      "execution_count": 19,
      "outputs": []
    },
    {
      "cell_type": "markdown",
      "metadata": {
        "id": "mpRqRc5SQiey"
      },
      "source": [
        "# Challenge 1 - Combining Strings\n",
        "\n",
        "Combining strings is an important skill to acquire. There are multiple ways of combining strings in Python, as well as combining strings with variables. We will explore this in the first challenge. In the cell below, combine the strings in the list and add spaces between the strings (do not add a space after the last string). Insert a period after the last string."
      ]
    },
    {
      "cell_type": "code",
      "metadata": {
        "colab": {
          "base_uri": "https://localhost:8080/"
        },
        "id": "PEV0v8k7Qiez",
        "outputId": "66876f91-a0fb-462d-cdcc-046dc2e91867"
      },
      "source": [
        "str_list = ['Durante', 'un', 'tiempo', 'no', 'estuvo', 'segura', 'de', 'si', 'su', 'marido', 'era', 'su', 'marido']\n",
        "\n",
        "joinedstring = ' '.join(str_list)\n",
        "joinedstring1 = joinedstring + '.'\n",
        "\n",
        "print(joinedstring1)\n"
      ],
      "execution_count": 2,
      "outputs": [
        {
          "output_type": "stream",
          "name": "stdout",
          "text": [
            "Durante un tiempo no estuvo segura de si su marido era su marido.\n"
          ]
        }
      ]
    },
    {
      "cell_type": "markdown",
      "metadata": {
        "id": "M8L4j9PnQiez"
      },
      "source": [
        "In the cell below, use the list of strings to create a grocery list. Start the list with the string `Grocery list: ` and include a comma and a space between each item except for the last one. Include a period at the end. Only include foods in the list that start with the letter 'b' and ensure all foods are lower case."
      ]
    },
    {
      "cell_type": "code",
      "metadata": {
        "colab": {
          "base_uri": "https://localhost:8080/"
        },
        "id": "kUSpqobZQie0",
        "outputId": "e6334a57-6263-4a3c-cb00-9b9a1eedff25"
      },
      "source": [
        "food_list = ['Bananas', 'Chocolate', 'bread', 'diapers', 'Ice Cream', 'Brownie Mix', 'broccoli']\n",
        "\n",
        "food = ', '.join(food_list)\n",
        "food_lower = food.lower()\n",
        "rule = '[b][a-z]+'\n",
        "re.findall(rule, food_lower)\n",
        "print('Grocery List: ', re.findall(rule, food_lower))"
      ],
      "execution_count": 15,
      "outputs": [
        {
          "output_type": "stream",
          "name": "stdout",
          "text": [
            "Grocery List:  ['bananas', 'bread', 'brownie', 'broccoli']\n"
          ]
        }
      ]
    },
    {
      "cell_type": "markdown",
      "metadata": {
        "id": "DY3TMTTXQie0"
      },
      "source": [
        "In the cell below, write a function that computes the area of a circle using its radius. Compute the area of the circle and insert the radius and the area between the two strings. Make sure to include spaces between the variable and the strings. \n",
        "\n",
        "Note: You can use the techniques we have learned so far or use f-strings. F-strings allow us to embed code inside strings. You can read more about f-strings [here](https://www.python.org/dev/peps/pep-0498/)."
      ]
    },
    {
      "cell_type": "code",
      "metadata": {
        "colab": {
          "base_uri": "https://localhost:8080/"
        },
        "id": "BdNB0r4AQie1",
        "outputId": "7a7c99a5-0335-44c7-cba2-bad9c5918c10"
      },
      "source": [
        "import math\n",
        "from math import pi\n",
        "string1 = \"The area of the circle with radius: \"\n",
        "string2  = \" is: \"\n",
        "radius = 4.5\n",
        "\n",
        "def area(x, pi = math.pi):\n",
        "    # This function takes a radius and returns the area of a circle. We also pass a default value for pi.\n",
        "    # Input: Float (and default value for pi)\n",
        "    # Output: Float\n",
        "    \n",
        "    # Sample input: 5.0\n",
        "    # Sample Output: 78.53981633\n",
        "    \n",
        "    # Your code here:\n",
        "    return pi * (x**2)\n",
        "    \n",
        "# Your output string here:\n",
        "print (string1 + str(radius) + string2 + str(pi * radius**2))"
      ],
      "execution_count": 23,
      "outputs": [
        {
          "output_type": "stream",
          "name": "stdout",
          "text": [
            "The area of the circle with radius: 4.5 is: 63.61725123519331\n"
          ]
        }
      ]
    },
    {
      "cell_type": "markdown",
      "metadata": {
        "id": "TwuRvnypQie2"
      },
      "source": [
        "# Challenge 2 - Splitting Strings\n",
        "\n",
        "We have first looked at combining strings into one long string. There are times where we need to do the opposite and split the string into smaller components for further analysis. \n",
        "\n",
        "In the cell below, split the string into a list of strings using the space delimiter. Count the frequency of each word in the string in a dictionary. Strip the periods, line breaks and commas from the text. Make sure to remove empty strings from your dictionary."
      ]
    },
    {
      "cell_type": "code",
      "metadata": {
        "colab": {
          "base_uri": "https://localhost:8080/"
        },
        "id": "hsqaTp8BQie3",
        "outputId": "9aab219a-4f40-489a-a482-180157f20f61"
      },
      "source": [
        "poem = \"\"\"Some say the world will end in fire,\n",
        "Some say in ice.\n",
        "From what I’ve tasted of desire\n",
        "I hold with those who favor fire.\n",
        "But if it had to perish twice,\n",
        "I think I know enough of hate\n",
        "To say that for destruction ice\n",
        "Is also great\n",
        "And would suffice.\"\"\"\n",
        "\n",
        "list_poem = poem.split()\n",
        "list1 = [word.strip('.,\\n') for word in list_poem]\n",
        "word_counter_dict = {word: list1.count(word) for word in list1}\n",
        "print(word_counter_dict)\n"
      ],
      "execution_count": 24,
      "outputs": [
        {
          "output_type": "stream",
          "name": "stdout",
          "text": [
            "{'Some': 2, 'say': 3, 'the': 1, 'world': 1, 'will': 1, 'end': 1, 'in': 2, 'fire': 2, 'ice': 2, 'From': 1, 'what': 1, 'I’ve': 1, 'tasted': 1, 'of': 2, 'desire': 1, 'I': 3, 'hold': 1, 'with': 1, 'those': 1, 'who': 1, 'favor': 1, 'But': 1, 'if': 1, 'it': 1, 'had': 1, 'to': 1, 'perish': 1, 'twice': 1, 'think': 1, 'know': 1, 'enough': 1, 'hate': 1, 'To': 1, 'that': 1, 'for': 1, 'destruction': 1, 'Is': 1, 'also': 1, 'great': 1, 'And': 1, 'would': 1, 'suffice': 1}\n"
          ]
        }
      ]
    },
    {
      "cell_type": "markdown",
      "metadata": {
        "id": "7RYpAKDtQie5"
      },
      "source": [
        "In the cell below, find all the words that appear in the text and do not appear in the blacklist. You must parse the string but can choose any data structure you wish for the words that do not appear in the blacklist. Remove all non letter characters and convert all words to lower case."
      ]
    },
    {
      "cell_type": "code",
      "metadata": {
        "colab": {
          "base_uri": "https://localhost:8080/"
        },
        "id": "jdZ44GZRQie5",
        "outputId": "52e0db74-7987-4ada-8cb4-724d8f534501"
      },
      "source": [
        "blacklist = ['and', 'as', 'an', 'a', 'the', 'in', 'it']\n",
        "\n",
        "poem = \"\"\"I was angry with my friend; \n",
        "I told my wrath, my wrath did end.\n",
        "I was angry with my foe: \n",
        "I told it not, my wrath did grow. \n",
        "\n",
        "And I waterd it in fears,\n",
        "Night & morning with my tears: \n",
        "And I sunned it with smiles,\n",
        "And with soft deceitful wiles. \n",
        "\n",
        "And it grew both day and night. \n",
        "Till it bore an apple bright. \n",
        "And my foe beheld it shine,\n",
        "And he knew that it was mine. \n",
        "\n",
        "And into my garden stole, \n",
        "When the night had veild the pole; \n",
        "In the morning glad I see; \n",
        "My foe outstretched beneath the tree.\"\"\"\n",
        "\n",
        "# Your code here:\n",
        "words_list = [word_lis.strip(',.\\n;:&') for word_lis in poem.split()]\n",
        "\n",
        "w_in_poem = ' '.join([w for w in words_list if w not in blacklist]).lower()\n",
        "\n",
        "print(w_in_poem)\n"
      ],
      "execution_count": 25,
      "outputs": [
        {
          "output_type": "stream",
          "name": "stdout",
          "text": [
            "i was angry with my friend i told my wrath my wrath did end i was angry with my foe i told not my wrath did grow and i waterd fears night  morning with my tears and i sunned with smiles and with soft deceitful wiles and grew both day night till bore apple bright and my foe beheld shine and he knew that was mine and into my garden stole when night had veild pole in morning glad i see my foe outstretched beneath tree\n"
          ]
        }
      ]
    },
    {
      "cell_type": "markdown",
      "metadata": {
        "id": "Jas6Hiq4Qie6"
      },
      "source": [
        "# Challenge 3 - Regular Expressions\n",
        "\n",
        "Sometimes, we would like to perform more complex manipulations of our string. This is where regular expressions come in handy. In the cell below, return all characters that are upper case from the string specified below."
      ]
    },
    {
      "cell_type": "code",
      "metadata": {
        "colab": {
          "base_uri": "https://localhost:8080/"
        },
        "id": "wugWij8gQie7",
        "outputId": "a321145d-417c-43c8-8e23-349ca818c31e"
      },
      "source": [
        "import re\n",
        "\n",
        "poem = \"\"\"The apparition of these faces in the crowd;\n",
        "Petals on a wet, black bough.\"\"\"\n",
        "\n",
        "# Your code here:\n",
        "rule = '[A-Z]'\n",
        "re.findall(rule, poem)\n"
      ],
      "execution_count": 28,
      "outputs": [
        {
          "output_type": "execute_result",
          "data": {
            "text/plain": [
              "['T', 'P']"
            ]
          },
          "metadata": {},
          "execution_count": 28
        }
      ]
    },
    {
      "cell_type": "markdown",
      "metadata": {
        "id": "1zdg85izQie7"
      },
      "source": [
        "In the cell below, filter the list provided and return all elements of the list containing a number. To filter the list, use the `re.search` function. Check if the function does not return `None`. You can read more about the `re.search` function [here](https://docs.python.org/3/library/re.html)."
      ]
    },
    {
      "cell_type": "code",
      "metadata": {
        "colab": {
          "base_uri": "https://localhost:8080/"
        },
        "id": "swcHieN1Qie8",
        "outputId": "b3f2d5c0-c165-4049-b67a-aafc88747ff5"
      },
      "source": [
        "data = ['123abc', 'abc123', 'JohnSmith1', 'ABBY4', 'JANE']\n",
        "\n",
        "# Your code here:\n",
        "ele_number = [i for i in data if (re.search('[1-9]',i) != None)]\n",
        "\n",
        "print(ele_number)"
      ],
      "execution_count": 29,
      "outputs": [
        {
          "output_type": "stream",
          "name": "stdout",
          "text": [
            "['123abc', 'abc123', 'JohnSmith1', 'ABBY4']\n"
          ]
        }
      ]
    },
    {
      "cell_type": "markdown",
      "metadata": {
        "id": "SBGIhLNnQie8"
      },
      "source": [
        "# Bonus Challenge - Regular Expressions II\n",
        "\n",
        "In the cell below, filter the list provided to keep only strings containing at least one digit and at least one lower case letter. As in the previous question, use the `re.search` function and check that the result is not `None`.\n",
        "\n",
        "To read more about regular expressions, check out [this link](https://developers.google.com/edu/python/regular-expressions)."
      ]
    },
    {
      "cell_type": "code",
      "metadata": {
        "colab": {
          "base_uri": "https://localhost:8080/"
        },
        "id": "LzhHsIUfQie9",
        "outputId": "0d44726d-56f3-4674-e031-35acd76d0969"
      },
      "source": [
        "data = ['123abc', 'abc123', 'JohnSmith1', 'ABBY4', 'JANE']\n",
        "# Your code here:\n",
        "new = [s for s in data if (re.search('[a-z]', s) != None ) or (re.search('[1-9]', s) != None)]\n",
        "\n",
        "print(new)\n"
      ],
      "execution_count": 30,
      "outputs": [
        {
          "output_type": "stream",
          "name": "stdout",
          "text": [
            "['123abc', 'abc123', 'JohnSmith1', 'ABBY4']\n"
          ]
        }
      ]
    },
    {
      "cell_type": "code",
      "metadata": {
        "id": "RQkewia1WlZf"
      },
      "source": [
        ""
      ],
      "execution_count": null,
      "outputs": []
    }
  ]
}