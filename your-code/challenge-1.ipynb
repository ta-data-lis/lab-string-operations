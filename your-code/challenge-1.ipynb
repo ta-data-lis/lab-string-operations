{
 "cells": [
  {
   "cell_type": "markdown",
   "metadata": {},
   "source": [
    "# String Operations Lab\n",
    "\n",
    "**Before your start:**\n",
    "\n",
    "- Read the README.md file\n",
    "- Comment as much as you can and use the resources in the README.md file\n",
    "- Happy learning!"
   ]
  },
  {
   "cell_type": "code",
   "execution_count": null,
   "metadata": {},
   "outputs": [],
   "source": [
    "import re"
   ]
  },
  {
   "cell_type": "markdown",
   "metadata": {},
   "source": [
    "# Challenge 1 - Combining Strings\n",
    "\n",
    "Combining strings is an important skill to acquire. There are multiple ways of combining strings in Python, as well as combining strings with variables. We will explore this in the first challenge. In the cell below, combine the strings in the list and add spaces between the strings (do not add a space after the last string). Insert a period after the last string."
   ]
  },
  {
   "cell_type": "code",
   "execution_count": null,
   "metadata": {},
   "outputs": [],
   "source": [
    "str_list = ['Durante', 'un', 'tiempo', 'no', 'estuvo', 'segura', 'de', 'si', 'su', 'marido',\\\n",
    "            'era', 'su', 'marido']\n",
    "# Your code here:\n",
    "\n",
    "# the method join connects each element of list str_list (iterable) wirh the string ' ' (space) \n",
    "# and adds a period after the final word of list str_list, which in this case is 'marido'\n",
    "string = ' '.join(str_list) +'.'\n",
    "\n",
    "# Let's print the string obtained.\n",
    "print(string)"
   ]
  },
  {
   "cell_type": "markdown",
   "metadata": {},
   "source": [
    "In the cell below, use the list of strings to create a grocery list. Start the list with the string `Grocery list: ` and include a comma and a space between each item except for the last one. Include a period at the end. Only include foods in the list that start with the letter 'b' and ensure all foods are lower case."
   ]
  },
  {
   "cell_type": "code",
   "execution_count": null,
   "metadata": {},
   "outputs": [],
   "source": [
    "food_list = ['Bananas', 'Chocolate', 'bread', 'diapers', 'Ice Cream', 'Brownie Mix', 'broccoli']\n",
    "# Your code here:\n",
    "\n",
    "# In order to get the final_list, firstly we get a list where each first letter becomes lower case.\n",
    "# Then, just the strings where the first word starts with a 'b' are selected for the final list.\n",
    "# That list needs to start with 'Grocery list:' and each selected string is joined with a comma\n",
    "# separting them.\n",
    "final_list = 'Grocery list: '+', '.join([food for food in [food.lower() for food in food_list]\\\n",
    "                                        if food.startswith('b')])\n",
    "\n",
    "# Let's print the string obtained.\n",
    "print(final_list)"
   ]
  },
  {
   "cell_type": "markdown",
   "metadata": {},
   "source": [
    "In the cell below, write a function that computes the area of a circle using its radius. Compute the area of the circle and insert the radius and the area between the two strings. Make sure to include spaces between the variable and the strings. \n",
    "\n",
    "Note: You can use the techniques we have learned so far or use f-strings. F-strings allow us to embed code inside strings. You can read more about f-strings [here](https://www.python.org/dev/peps/pep-0498/)."
   ]
  },
  {
   "cell_type": "code",
   "execution_count": null,
   "metadata": {},
   "outputs": [],
   "source": [
    "import math\n",
    "\n",
    "string1 = \"The area of the circle with radius:\"\n",
    "string2  = \"is:\"\n",
    "radius = 4.5\n",
    "\n",
    "def area(x, pi = math.pi):\n",
    "    # This function takes a radius and returns the area of a circle. We also pass a default value for pi.\n",
    "    # Input: Float (and default value for pi)\n",
    "    # Output: Float\n",
    "    \n",
    "    # Sample input: 5.0\n",
    "    # Sample Output: 78.53981633\n",
    "    \n",
    "    # Your code here:\n",
    "    return pi * (x**2)\n",
    "    \n",
    "# Your output string here:\n",
    "output = string1+' '+str(radius)+' '+string2+' '+str(area(radius)) # less pro way\n",
    "print(output)\n",
    "\n",
    "# Using f-strings\n",
    "f'{string1} {radius} {string2} {area(radius)}.'"
   ]
  },
  {
   "cell_type": "markdown",
   "metadata": {},
   "source": [
    "# Challenge 2 - Splitting Strings\n",
    "\n",
    "We have first looked at combining strings into one long string. There are times where we need to do the opposite and split the string into smaller components for further analysis. \n",
    "\n",
    "In the cell below, split the string into a list of strings using the space delimiter. Count the frequency of each word in the string in a dictionary. Strip the periods, line breaks and commas from the text. Make sure to remove empty strings from your dictionary."
   ]
  },
  {
   "cell_type": "code",
   "execution_count": null,
   "metadata": {},
   "outputs": [],
   "source": [
    "poem = \"\"\"Some say the world will end in fire,\n",
    "Some say in ice.\n",
    "From what I’ve tasted of desire\n",
    "I hold with those who favor fire.\n",
    "But if it had to perish twice,\n",
    "I think I know enough of hate\n",
    "To say that for destruction ice\n",
    "Is also great\n",
    "And would suffice.\"\"\"\n",
    "\n",
    "# Your code here:\n",
    "\n",
    "# Let's split the original string (poem) using the split() method with space delimiter as separator.\n",
    "list_of_words = poem.split(' ')\n",
    "#print(list_of_words)\n",
    "#print('\\n')\n",
    "\n",
    "#Let's create a list where the '\\n' are removed\n",
    "intermediate_list = [word.replace('\\n',' ') for word in list_of_words]\n",
    "#print(intermediate_list)\n",
    "#print('\\n')\n",
    "\n",
    "#Let's create a new string using join() method\n",
    "almost_cleaned_string = ' '.join(intermediate_list)\n",
    "#print(almost_cleaned_string)\n",
    "#print('\\n')\n",
    "\n",
    "# Let's split the almost_cleaned_string using the split() method with space delimiter as separator.\n",
    "new_list = almost_cleaned_string.split(' ')\n",
    "#print(new_list)\n",
    "#print('\\n')\n",
    "\n",
    "# Let's remove the periods and commas from the list\n",
    "final_list = [word.strip(',.') for word in new_list]\n",
    "#print(final_list)\n",
    "#print('\\n')\n",
    "\n",
    "# Let's change a little bit the final_list in order to have each word capitalized\n",
    "final_list_capitalized = [word.capitalize() for word in final_list]\n",
    "#print(final_list_capitalized)\n",
    "#print('\\n')\n",
    "\n",
    "#Let's define a dictionary where the values have the number of times each word (keys) appears\n",
    "dictionary = dict()\n",
    "\n",
    "for key in final_list_capitalized:\n",
    "    if key in dictionary.keys():\n",
    "        dictionary[key] += 1\n",
    "    else:\n",
    "        dictionary[key] = 1\n",
    "\n",
    "dictionary"
   ]
  },
  {
   "cell_type": "markdown",
   "metadata": {},
   "source": [
    "In the cell below, find all the words that appear in the text and do not appear in the blacklist. You must parse the string but can choose any data structure you wish for the words that do not appear in the blacklist. Remove all non letter characters and convert all words to lower case."
   ]
  },
  {
   "cell_type": "code",
   "execution_count": null,
   "metadata": {},
   "outputs": [],
   "source": [
    "blacklist = ['and', 'as', 'an', 'a', 'the', 'in', 'it']\n",
    "\n",
    "poem = \"\"\"I was angry with my friend; \n",
    "I told my wrath, my wrath did end.\n",
    "I was angry with my foe: \n",
    "I told it not, my wrath did grow. \n",
    "\n",
    "And I waterd it in fears,\n",
    "Night & morning with my tears: \n",
    "And I sunned it with smiles,\n",
    "And with soft deceitful wiles. \n",
    "\n",
    "And it grew both day and night. \n",
    "Till it bore an apple bright. \n",
    "And my foe beheld it shine,\n",
    "And he knew that it was mine. \n",
    "\n",
    "And into my garden stole, \n",
    "When the night had veild the pole; \n",
    "In the morning glad I see; \n",
    "My foe outstretched beneath the tree.\"\"\"\n",
    "\n",
    "# Your code here:\n",
    "\n",
    "# Let's use split() method to transform the string in a list\n",
    "list_from_poem = poem.split()\n",
    "#print(list_from_poem)\n",
    "#print('\\n')\n",
    "\n",
    "# Let's remove all non-letter characters and convert all letters to lower case\n",
    "cleaned_list = [word.strip(',;.:').lower() for word in list_from_poem]\n",
    "#print(cleaned_list)\n",
    "#print('\\n')\n",
    "\n",
    "# Let's convert the cleaned_list and blacklist to sets\n",
    "good_set = set(cleaned_list)\n",
    "bad_set = set(blacklist)\n",
    "\n",
    "# Let's make the difference between both sets\n",
    "interesting_words = good_set.difference(bad_set)\n",
    "print(interesting_words)"
   ]
  },
  {
   "cell_type": "markdown",
   "metadata": {},
   "source": [
    "# Challenge 3 - Regular Expressions\n",
    "\n",
    "Sometimes, we would like to perform more complex manipulations of our string. This is where regular expressions come in handy. In the cell below, return all characters that are upper case from the string specified below."
   ]
  },
  {
   "cell_type": "code",
   "execution_count": null,
   "metadata": {},
   "outputs": [],
   "source": [
    "import re\n",
    "\n",
    "poem = \"\"\"The apparition of these faces in the crowd;\n",
    "Petals on a wet, black bough.\"\"\"\n",
    "\n",
    "# Your code here:\n",
    "\n",
    "# Using the module re and the function findall(), we obtain a list with every upper case present\\\n",
    "# in string poem\n",
    "re.findall('[A-Z]',poem)"
   ]
  },
  {
   "cell_type": "markdown",
   "metadata": {},
   "source": [
    "In the cell below, filter the list provided and return all elements of the list containing a number. To filter the list, use the `re.search` function. Check if the function does not return `None`. You can read more about the `re.search` function [here](https://docs.python.org/3/library/re.html)."
   ]
  },
  {
   "cell_type": "code",
   "execution_count": null,
   "metadata": {},
   "outputs": [],
   "source": [
    "data = ['123abc1', 'abc123', 'JohnSmith1', 'ABBY4', 'JANE']\n",
    "\n",
    "# Your code here:\n",
    "\n",
    "# Initialization of list where the strings with numbers will be stored\n",
    "data_filtered = []\n",
    "\n",
    "# The for loop iterates on every element of list 'data' and checks if it has numbers.\n",
    "for elemen in data:\n",
    "    match = re.search('\\d+', elemen)\n",
    "    if match:\n",
    "        data_filtered.append(elemen)\n",
    "    else:\n",
    "        print(f'The string {elemen} will not appear below')\n",
    "\n",
    "print('\\n')\n",
    "print(data_filtered)"
   ]
  },
  {
   "cell_type": "markdown",
   "metadata": {},
   "source": [
    "# Bonus Challenge - Regular Expressions II\n",
    "\n",
    "In the cell below, filter the list provided to keep only strings containing at least one digit and at least one lower case letter. As in the previous question, use the `re.search` function and check that the result is not `None`.\n",
    "\n",
    "To read more about regular expressions, check out [this link](https://developers.google.com/edu/python/regular-expressions)."
   ]
  },
  {
   "cell_type": "code",
   "execution_count": null,
   "metadata": {},
   "outputs": [],
   "source": [
    "data = ['123abc', 'abc123', 'JohnSmith1', 'ABBY4', 'JANE']\n",
    "# Your code here: ---> Probably there is a simpler way, using re !!\n",
    "\n",
    "# Initialization of list where the strings with numbers will be stored\n",
    "data_filtered_digit = []\n",
    "data_filtered_lower_case_letter = []\n",
    "\n",
    "# The for loop iterates on every element of list 'data' and checks if it has digits.\n",
    "for elemen in data:\n",
    "    match = re.search('\\d', elemen)\n",
    "    if match:\n",
    "        data_filtered_digit.append(elemen)\n",
    "    else:\n",
    "        print(f'The string {elemen} will not appear below, because it has no digits.')\n",
    "        \n",
    "# The for loop iterates on every element of list 'data' and checks if it has lower case letters.\n",
    "for elemen in data:\n",
    "    match = re.search('[a-z]', elemen)\n",
    "    if match:\n",
    "        data_filtered_lower_case_letter.append(elemen)\n",
    "    else:\n",
    "        print(f'The string {elemen} will not appear below, because it has not lower case letters.')       \n",
    "\n",
    "\n",
    "print('\\n')\n",
    "\n",
    "# Lets find the intersection of both lists\n",
    "digit = set(data_filtered_digit)\n",
    "lower_case = set(data_filtered_lower_case_letter)\n",
    "\n",
    "filtered_list = list(digit.intersection(lower_case))\n",
    "print(filtered_list)"
   ]
  }
 ],
 "metadata": {
  "kernelspec": {
   "display_name": "Python 3 (ipykernel)",
   "language": "python",
   "name": "python3"
  },
  "language_info": {
   "codemirror_mode": {
    "name": "ipython",
    "version": 3
   },
   "file_extension": ".py",
   "mimetype": "text/x-python",
   "name": "python",
   "nbconvert_exporter": "python",
   "pygments_lexer": "ipython3",
   "version": "3.8.8"
  }
 },
 "nbformat": 4,
 "nbformat_minor": 2
}
