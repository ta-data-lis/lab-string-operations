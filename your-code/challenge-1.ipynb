{
 "cells": [
  {
   "cell_type": "markdown",
   "metadata": {},
   "source": [
    "# String Operations Lab\n",
    "\n",
    "**Before your start:**\n",
    "\n",
    "- Read the README.md file\n",
    "- Comment as much as you can and use the resources in the README.md file\n",
    "- Happy learning!"
   ]
  },
  {
   "cell_type": "code",
   "execution_count": 1,
   "metadata": {},
   "outputs": [],
   "source": [
    "import re"
   ]
  },
  {
   "cell_type": "markdown",
   "metadata": {},
   "source": [
    "# Challenge 1 - Combining Strings\n",
    "\n",
    "Combining strings is an important skill to acquire. There are multiple ways of combining strings in Python, as well as combining strings with variables. We will explore this in the first challenge. In the cell below, combine the strings in the list and add spaces between the strings (do not add a space after the last string). Insert a period after the last string."
   ]
  },
  {
   "cell_type": "code",
   "execution_count": 5,
   "metadata": {},
   "outputs": [
    {
     "name": "stdout",
     "output_type": "stream",
     "text": [
      "Durante un tiempo no estuvo segura de si su marido era su marido.\n"
     ]
    }
   ],
   "source": [
    "str_list = ['Durante', 'un', 'tiempo', 'no', 'estuvo', 'segura', 'de', 'si', 'su', 'marido', 'era', 'su', 'marido']\n",
    "# Your code here:\n",
    "stringlist=\" \".join(str_list)\n",
    "stringlist=stringlist+\".\"\n",
    "print(stringlist)"
   ]
  },
  {
   "cell_type": "markdown",
   "metadata": {},
   "source": [
    "In the cell below, use the list of strings to create a grocery list. Start the list with the string `Grocery list: ` and include a comma and a space between each item except for the last one. Include a period at the end. Only include foods in the list that start with the letter 'b' and ensure all foods are lower case."
   ]
  },
  {
   "cell_type": "code",
   "execution_count": 52,
   "metadata": {},
   "outputs": [
    {
     "name": "stdout",
     "output_type": "stream",
     "text": [
      "bananas ,chocolate ,bread ,diapers ,ice cream ,brownie mix ,broccoli\n",
      "['Grocery list:', 'bananas', 'bread', 'brownie', 'broccoli']\n"
     ]
    }
   ],
   "source": [
    "food_list = ['Bananas', 'Chocolate', 'bread', 'diapers', 'Ice Cream', 'Brownie Mix', 'broccoli']\n",
    "# Your code here:\n",
    "# creating the grocery list list\n",
    "Grocery_list=[\"Grocery list:\"]\n",
    "\n",
    "#Adding the punctuation, everything lower\n",
    "food_str_list=\" ,\".join(food_list)\n",
    "food_str_list=food_str_list.lower()\n",
    "print(food_str_list)\n",
    "\n",
    "#only include food starting with letter b, importing regex\n",
    "import re\n",
    "\n",
    "#defining the rule\n",
    "rule ='[b]\\w+'\n",
    "b_food=re.findall(rule, food_str_list)\n",
    "Grocery_list=Grocery_list+b_food\n",
    "print(Grocery_list)\n"
   ]
  },
  {
   "cell_type": "markdown",
   "metadata": {},
   "source": [
    "In the cell below, write a function that computes the area of a circle using its radius. Compute the area of the circle and insert the radius and the area between the two strings. Make sure to include spaces between the variable and the strings. \n",
    "\n",
    "Note: You can use the techniques we have learned so far or use f-strings. F-strings allow us to embed code inside strings. You can read more about f-strings [here](https://www.python.org/dev/peps/pep-0498/)."
   ]
  },
  {
   "cell_type": "code",
   "execution_count": 25,
   "metadata": {},
   "outputs": [
    {
     "name": "stdout",
     "output_type": "stream",
     "text": [
      "The area of the circle with radius: 4.5 is: 63.61725123519331\n"
     ]
    }
   ],
   "source": [
    "import math\n",
    "\n",
    "string1 = \"The area of the circle with radius:\"\n",
    "string2  = \"is:\"\n",
    "radius = 4.5\n",
    "\n",
    "def area(x, pi = math.pi):\n",
    "    # This function takes a radius and returns the area of a circle. We also pass a default value for pi.\n",
    "    # Input: Float (and default value for pi)\n",
    "    # Output: Float\n",
    "    \n",
    "    # Sample input: 5.0\n",
    "    # Sample Output: 78.53981633\n",
    "    \n",
    "    # Your code here:\n",
    "    return pi * (x**2)\n",
    "    \n",
    "# Your output string here:\n",
    "res=string1+\" \"+str(radius)+\" \"+string2+\" \"+str(area(radius))\n",
    "print(res)\n"
   ]
  },
  {
   "cell_type": "markdown",
   "metadata": {},
   "source": [
    "# Challenge 2 - Splitting Strings\n",
    "\n",
    "We have first looked at combining strings into one long string. There are times where we need to do the opposite and split the string into smaller components for further analysis. \n",
    "\n",
    "In the cell below, split the string into a list of strings using the space delimiter. Count the frequency of each word in the string in a dictionary. Strip the periods, line breaks and commas from the text. Make sure to remove empty strings from your dictionary."
   ]
  },
  {
   "cell_type": "code",
   "execution_count": 32,
   "metadata": {},
   "outputs": [
    {
     "name": "stdout",
     "output_type": "stream",
     "text": [
      "['Some', 'say', 'the', 'world', 'will', 'end', 'in', 'fire,\\nSome', 'say', 'in', 'ice.\\nFrom', 'what', 'I’ve', 'tasted', 'of', 'desire\\nI', 'hold', 'with', 'those', 'who', 'favor', 'fire.\\nBut', 'if', 'it', 'had', 'to', 'perish', 'twice,\\nI', 'think', 'I', 'know', 'enough', 'of', 'hate\\nTo', 'say', 'that', 'for', 'destruction', 'ice\\nIs', 'also', 'great\\nAnd', 'would', 'suffice.']\n",
      "{'S': 2, 'o': 18, 'm': 3, 'e': 20, ' ': 42, 's': 11, 'a': 11, 'y': 3, 't': 17, 'h': 12, 'w': 8, 'r': 10, 'l': 6, 'd': 9, 'i': 16, 'n': 8, 'f': 9, ',': 2, '\\n': 8, 'c': 5, '.': 3, 'F': 1, 'I': 5, '’': 1, 'v': 2, 'B': 1, 'u': 5, 'p': 1, 'k': 2, 'g': 2, 'T': 1, 'A': 1}\n",
      "1\n"
     ]
    }
   ],
   "source": [
    "poem = \"\"\"Some say the world will end in fire,\n",
    "Some say in ice.\n",
    "From what I’ve tasted of desire\n",
    "I hold with those who favor fire.\n",
    "But if it had to perish twice,\n",
    "I think I know enough of hate\n",
    "To say that for destruction ice\n",
    "Is also great\n",
    "And would suffice.\"\"\"\n",
    "\n",
    "# Your code here:\n",
    "#split the strings using the space delimiter\n",
    "poem_split=poem.split(\" \")\n",
    "print(poem_split)\n",
    "\n",
    "#count the frequency of each word in the string in a dictionary\n",
    "\n",
    "\n",
    "\n",
    "def wordcounter(a_list):\n",
    "    the_dict = {}\n",
    "    for word in a_list:\n",
    "      if word in the_dict.keys():\n",
    "        the_dict[word] = the_dict[word] + 1 \n",
    "      else:\n",
    "        the_dict[word] = 1\n",
    "    return the_dict\n",
    "\n",
    "frequency = wordcounter(poem)\n",
    "print(frequency)\n",
    "\n",
    "c_some=poem_split.count(\"Some\")\n",
    "print(c_some)\n",
    "\n",
    "\n"
   ]
  },
  {
   "cell_type": "markdown",
   "metadata": {},
   "source": [
    "In the cell below, find all the words that appear in the text and do not appear in the blacklist. You must parse the string but can choose any data structure you wish for the words that do not appear in the blacklist. Remove all non letter characters and convert all words to lower case."
   ]
  },
  {
   "cell_type": "code",
   "execution_count": 44,
   "metadata": {},
   "outputs": [
    {
     "name": "stdout",
     "output_type": "stream",
     "text": [
      "['i', 'was', 'angry', 'with', 'my', 'friend;', '\\ni', 'told', 'my', 'wrath,', 'my', 'wrath', 'did', 'end.\\ni', 'was', 'angry', 'with', 'my', 'foe:', '\\ni', 'told', 'it', 'not,', 'my', 'wrath', 'did', 'grow.', '\\n\\nand', 'i', 'waterd', 'it', 'in', 'fears,\\nnight', '&', 'morning', 'with', 'my', 'tears:', '\\nand', 'i', 'sunned', 'it', 'with', 'smiles,\\nand', 'with', 'soft', 'deceitful', 'wiles.', '\\n\\nand', 'it', 'grew', 'both', 'day', 'and', 'night.', '\\ntill', 'it', 'bore', 'an', 'apple', 'bright.', '\\nand', 'my', 'foe', 'beheld', 'it', 'shine,\\nand', 'he', 'knew', 'that', 'it', 'was', 'mine.', '\\n\\nand', 'into', 'my', 'garden', 'stole,', '\\nwhen', 'the', 'night', 'had', 'veild', 'the', 'pole;', '\\nin', 'the', 'morning', 'glad', 'i', 'see;', '\\nmy', 'foe', 'outstretched', 'beneath', 'the', 'tree.']\n",
      "['i', 'was', 'angry', 'with', 'my', 'friend', 'i', 'told', 'my', 'wrath ', 'my', 'wrath', 'did', 'endi', 'was', 'angry', 'with', 'my', 'foe', 'i', 'told', 'it', 'not ', 'my', 'wrath', 'did', 'grow', 'and', 'i', 'waterd', 'it', 'in', 'fears night', '', 'morning', 'with', 'my', 'tears', 'and', 'i', 'sunned', 'it', 'with', 'smiles and', 'with', 'soft', 'deceitful', 'wiles', 'and', 'it', 'grew', 'both', 'day', 'and', 'night', 'till', 'it', 'bore', 'an', 'apple', 'bright', 'and', 'my', 'foe', 'beheld', 'it', 'shine and', 'he', 'knew', 'that', 'it', 'was', 'mine', 'and', 'into', 'my', 'garden', 'stole ', 'when', 'the', 'night', 'had', 'veild', 'the', 'pole', 'in', 'the', 'morning', 'glad', 'i', 'see', 'my', 'foe', 'outstretched', 'beneath', 'the', 'tree']\n"
     ]
    }
   ],
   "source": [
    "blacklist = ['and', 'as', 'an', 'a', 'the', 'in', 'it']\n",
    "\n",
    "poem = \"\"\"I was angry with my friend; \n",
    "I told my wrath, my wrath did end.\n",
    "I was angry with my foe: \n",
    "I told it not, my wrath did grow. \n",
    "\n",
    "And I waterd it in fears,\n",
    "Night & morning with my tears: \n",
    "And I sunned it with smiles,\n",
    "And with soft deceitful wiles. \n",
    "\n",
    "And it grew both day and night. \n",
    "Till it bore an apple bright. \n",
    "And my foe beheld it shine,\n",
    "And he knew that it was mine. \n",
    "\n",
    "And into my garden stole, \n",
    "When the night had veild the pole; \n",
    "In the morning glad I see; \n",
    "My foe outstretched beneath the tree.\"\"\"\n",
    "\n",
    "# Your code here:\n",
    "\n",
    "\n",
    "#lower case\n",
    "lower_poem=poem.lower()\n",
    "\n",
    "#parsing the string poem into a list of strings\n",
    "list_poem = lower_poem.split(\" \")\n",
    "#print(list_poem)\n",
    "#removing n\n",
    "\n",
    "clean_list = []\n",
    "\n",
    "for element in list_poem:\n",
    "    #clean_list.append(element.strip(\"\\n\").strip(\".\").strip(\"&\"))\n",
    "    clean_list.append(element.replace(\"\\n\",\"\").replace(\"&\",\"\").replace(\":\",\"\").replace(\".\",\"\").replace(\";\",\"\").replace(\",\",\" \"))\n",
    "print(clean_list)\n",
    "\n"
   ]
  },
  {
   "cell_type": "markdown",
   "metadata": {},
   "source": [
    "# Challenge 3 - Regular Expressions\n",
    "\n",
    "Sometimes, we would like to perform more complex manipulations of our string. This is where regular expressions come in handy. In the cell below, return all characters that are upper case from the string specified below."
   ]
  },
  {
   "cell_type": "code",
   "execution_count": 54,
   "metadata": {},
   "outputs": [
    {
     "name": "stdout",
     "output_type": "stream",
     "text": [
      "['The', 'apparition', 'of', 'these', 'faces', 'in', 'the', 'crowd;\\nPetals', 'on', 'a', 'wet,', 'black', 'bough.']\n",
      "['T', 'P']\n"
     ]
    }
   ],
   "source": [
    "import re\n",
    "\n",
    "poem = \"\"\"The apparition of these faces in the crowd;\n",
    "Petals on a wet, black bough.\"\"\"\n",
    "\n",
    "# Your code here:\n",
    "\n",
    "#create list to store\n",
    "upper_list=[]\n",
    "\n",
    "#defining the rule\n",
    "rule ='[A-Z]+'\n",
    "\n",
    "#regex to find all upper case letters in the string\n",
    "upper_list=re.findall(rule,poem)\n",
    "\n",
    "print(upper_list)"
   ]
  },
  {
   "cell_type": "markdown",
   "metadata": {},
   "source": [
    "In the cell below, filter the list provided and return all elements of the list containing a number. To filter the list, use the `re.search` function. Check if the function does not return `None`. You can read more about the `re.search` function [here](https://docs.python.org/3/library/re.html)."
   ]
  },
  {
   "cell_type": "code",
   "execution_count": 57,
   "metadata": {},
   "outputs": [
    {
     "name": "stdout",
     "output_type": "stream",
     "text": [
      "123abc abc123 JohnSmith1 ABBY4 JANE\n",
      "['123abc', 'abc123', 'JohnSmith1', 'ABBY4']\n"
     ]
    }
   ],
   "source": [
    "data = ['123abc', 'abc123', 'JohnSmith1', 'ABBY4', 'JANE']\n",
    "\n",
    "#create string from list\n",
    "string = \" \".join(data)\n",
    "print(string)\n",
    "\n",
    "#create list to store\n",
    "store_list=[]\n",
    "\n",
    "#defining the rule\n",
    "rule ='\\S*\\d+\\S*'\n",
    "\n",
    "#regex to find all elements containing a number in the string\n",
    "store_list=re.findall(rule,string)\n",
    "\n",
    "print(store_list)\n",
    "\n",
    "# Your code here:\n"
   ]
  },
  {
   "cell_type": "markdown",
   "metadata": {},
   "source": [
    "# Bonus Challenge - Regular Expressions II\n",
    "\n",
    "In the cell below, filter the list provided to keep only strings containing at least one digit and at least one lower case letter. As in the previous question, use the `re.search` function and check that the result is not `None`.\n",
    "\n",
    "To read more about regular expressions, check out [this link](https://developers.google.com/edu/python/regular-expressions)."
   ]
  },
  {
   "cell_type": "code",
   "execution_count": null,
   "metadata": {},
   "outputs": [],
   "source": [
    "data = ['123abc', 'abc123', 'JohnSmith1', 'ABBY4', 'JANE']\n",
    "# Your code here:\n"
   ]
  }
 ],
 "metadata": {
  "kernelspec": {
   "display_name": "Python 3",
   "language": "python",
   "name": "python3"
  },
  "language_info": {
   "codemirror_mode": {
    "name": "ipython",
    "version": 3
   },
   "file_extension": ".py",
   "mimetype": "text/x-python",
   "name": "python",
   "nbconvert_exporter": "python",
   "pygments_lexer": "ipython3",
   "version": "3.7.6"
  }
 },
 "nbformat": 4,
 "nbformat_minor": 2
}
